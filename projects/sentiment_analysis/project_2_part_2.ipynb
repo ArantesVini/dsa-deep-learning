{
  "cells": [
    {
      "cell_type": "code",
      "execution_count": 1,
      "metadata": {
        "id": "Avr6DgH4_B8f",
        "colab": {
          "base_uri": "https://localhost:8080/"
        },
        "outputId": "a084202c-4054-4174-f745-d4c92f64195a"
      },
      "outputs": [
        {
          "output_type": "stream",
          "name": "stdout",
          "text": [
            "\u001b[?25l   \u001b[90m━━━━━━━━━━━━━━━━━━━━━━━━━━━━━━━━━━━━━━━━\u001b[0m \u001b[32m0.0/1.6 MB\u001b[0m \u001b[31m?\u001b[0m eta \u001b[36m-:--:--\u001b[0m\r\u001b[2K   \u001b[91m━━━━━━━━━━━━━━━━━━━━━━━━━━━━━━━━━━━━━━━\u001b[0m\u001b[91m╸\u001b[0m \u001b[32m1.6/1.6 MB\u001b[0m \u001b[31m49.6 MB/s\u001b[0m eta \u001b[36m0:00:01\u001b[0m\r\u001b[2K   \u001b[90m━━━━━━━━━━━━━━━━━━━━━━━━━━━━━━━━━━━━━━━━\u001b[0m \u001b[32m1.6/1.6 MB\u001b[0m \u001b[31m29.0 MB/s\u001b[0m eta \u001b[36m0:00:00\u001b[0m\n",
            "\u001b[?25h"
          ]
        }
      ],
      "source": [
        "!pip install -q -U watermark"
      ]
    },
    {
      "cell_type": "code",
      "execution_count": 2,
      "metadata": {
        "id": "9soAjmK7_B8g"
      },
      "outputs": [],
      "source": [
        "!pip install -q spacy"
      ]
    },
    {
      "cell_type": "code",
      "execution_count": 3,
      "metadata": {
        "id": "iathhTFF_B8g"
      },
      "outputs": [],
      "source": [
        "!pip install -q tensorflow"
      ]
    },
    {
      "cell_type": "code",
      "execution_count": 4,
      "metadata": {
        "id": "6gnnf9OOs1Iv"
      },
      "outputs": [],
      "source": [
        "!pip install -q keras"
      ]
    },
    {
      "cell_type": "code",
      "execution_count": 5,
      "metadata": {
        "colab": {
          "base_uri": "https://localhost:8080/"
        },
        "id": "p_rkn2Dzs1Iv",
        "outputId": "b560b581-7d23-4e10-c39d-9ccea8a431b1"
      },
      "outputs": [
        {
          "output_type": "stream",
          "name": "stdout",
          "text": [
            "\u001b[?25l   \u001b[90m━━━━━━━━━━━━━━━━━━━━━━━━━━━━━━━━━━━━━━━━\u001b[0m \u001b[32m0.0/42.6 kB\u001b[0m \u001b[31m?\u001b[0m eta \u001b[36m-:--:--\u001b[0m\r\u001b[2K   \u001b[90m━━━━━━━━━━━━━━━━━━━━━━━━━━━━━━━━━━━━━━━━\u001b[0m \u001b[32m42.6/42.6 kB\u001b[0m \u001b[31m2.5 MB/s\u001b[0m eta \u001b[36m0:00:00\u001b[0m\n",
            "\u001b[?25h"
          ]
        }
      ],
      "source": [
        "!pip install -q keras-preprocessing"
      ]
    },
    {
      "cell_type": "code",
      "execution_count": 6,
      "metadata": {
        "id": "REFEXI--_B8g"
      },
      "outputs": [],
      "source": [
        "!pip install -q transformers"
      ]
    },
    {
      "cell_type": "code",
      "execution_count": 7,
      "metadata": {
        "colab": {
          "base_uri": "https://localhost:8080/"
        },
        "id": "XpP6xKN__B8g",
        "outputId": "4d8cc4f9-455f-4595-cb58-0d45b9a6eb24"
      },
      "outputs": [
        {
          "output_type": "stream",
          "name": "stdout",
          "text": [
            "env: TF_CPP_MIN_LOG_LEVEL=3\n"
          ]
        }
      ],
      "source": [
        "%env TF_CPP_MIN_LOG_LEVEL=3"
      ]
    },
    {
      "cell_type": "code",
      "execution_count": 8,
      "metadata": {
        "id": "mrIhYRfK_B8g"
      },
      "outputs": [],
      "source": [
        "# Imports\n",
        "import math\n",
        "import nltk\n",
        "import spacy\n",
        "import numpy as np\n",
        "import pandas as pd\n",
        "import tensorflow as tf\n",
        "import matplotlib.pyplot as plt\n",
        "import transformers\n",
        "from tokenizers import BertWordPieceTokenizer\n",
        "from tqdm import tqdm\n",
        "from nltk.corpus import stopwords\n",
        "from sklearn.preprocessing import LabelEncoder\n",
        "from sklearn.feature_extraction.text import TfidfVectorizer\n",
        "from sklearn.model_selection import train_test_split\n",
        "from sklearn.utils.class_weight import compute_class_weight\n",
        "from sklearn.metrics import confusion_matrix, accuracy_score, classification_report\n",
        "from tensorflow.keras.utils import to_categorical\n",
        "from tensorflow.keras.models import Sequential\n",
        "from tensorflow.keras.models import load_model\n",
        "from keras_preprocessing.text import Tokenizer\n",
        "from keras_preprocessing.sequence import pad_sequences\n",
        "from keras.metrics import Precision, Recall, AUC\n",
        "from keras.layers import Embedding, LSTM, Dense, Dropout, Bidirectional\n",
        "from keras.callbacks import EarlyStopping, LearningRateScheduler, CallbackList, ReduceLROnPlateau\n",
        "from tensorflow.keras.optimizers import Adam\n",
        "from tensorflow.keras.regularizers import l1_l2\n",
        "from keras.saving import register_keras_serializable\n",
        "from tensorflow.keras.layers import Layer, Dense\n",
        "from transformers import TFDistilBertModel, DistilBertConfig\n",
        "from tensorflow.keras.metrics import Precision, Recall, AUC\n",
        "import warnings\n",
        "warnings.filterwarnings('ignore')"
      ]
    },
    {
      "cell_type": "markdown",
      "metadata": {
        "id": "4IJd1Egg_B8h"
      },
      "source": [
        "## Loading text data"
      ]
    },
    {
      "cell_type": "code",
      "execution_count": 10,
      "metadata": {
        "id": "Ql3PfUAw_B8h"
      },
      "outputs": [],
      "source": [
        "# Loading Train and Test Data\n",
        "df_train = pd.read_csv(\"train_data.txt\", header = None, delimiter = ';').rename(columns = {0: \"text\", 1: \"label\"})\n",
        "df_test = pd.read_csv(\"test_data.txt\", header = None, delimiter = ';').rename(columns = {0: \"text\", 1: \"label\"})"
      ]
    },
    {
      "cell_type": "markdown",
      "metadata": {
        "id": "T5NBhRcJ_B8i"
      },
      "source": [
        "> A coluna **texto** será a variável de entrada e **sentimento** a variável de saída."
      ]
    },
    {
      "cell_type": "markdown",
      "metadata": {
        "id": "HTNI6uDD_B8j"
      },
      "source": [
        "## SpaCy preprocessing the text data\n",
        "\n",
        "https://spacy.io/"
      ]
    },
    {
      "cell_type": "code",
      "execution_count": 11,
      "metadata": {
        "colab": {
          "base_uri": "https://localhost:8080/"
        },
        "id": "bAgMimio_B8j",
        "outputId": "f7c5baa1-966d-41fd-b2c1-45eede5a2ff6"
      },
      "outputs": [
        {
          "output_type": "stream",
          "name": "stdout",
          "text": [
            "\u001b[2K     \u001b[90m━━━━━━━━━━━━━━━━━━━━━━━━━━━━━━━━━━━━━━━━\u001b[0m \u001b[32m42.8/42.8 MB\u001b[0m \u001b[31m16.5 MB/s\u001b[0m eta \u001b[36m0:00:00\u001b[0m\n",
            "\u001b[?25h\u001b[38;5;2m✔ Download and installation successful\u001b[0m\n",
            "You can now load the package via spacy.load('en_core_web_md')\n",
            "\u001b[38;5;3m⚠ Restart to reload dependencies\u001b[0m\n",
            "If you are in a Jupyter or Colab notebook, you may need to restart Python in\n",
            "order to load all the package's dependencies. You can do this by selecting the\n",
            "'Restart kernel' or 'Restart runtime' option.\n"
          ]
        }
      ],
      "source": [
        "!python -m spacy download en_core_web_md -q"
      ]
    },
    {
      "cell_type": "code",
      "execution_count": 12,
      "metadata": {
        "id": "uNCFek9w_B8j"
      },
      "outputs": [],
      "source": [
        "spacy_nlp = spacy.load(\"en_core_web_md\")"
      ]
    },
    {
      "cell_type": "code",
      "execution_count": 13,
      "metadata": {
        "id": "epbG8NVe_B8j"
      },
      "outputs": [],
      "source": [
        "def text_preprocess(text):\n",
        "\n",
        "    doc = spacy_nlp(text)\n",
        "    tokens = [token.lemma_.lower().strip() for token in doc if not token.is_stop]\n",
        "    return \" \".join(tokens)\n",
        "\n",
        "df_train[\"processed_text\"] = df_train[\"text\"].apply(text_preprocess)\n",
        "df_test[\"processed_text\"] = df_test[\"text\"].apply(text_preprocess)"
      ]
    },
    {
      "cell_type": "markdown",
      "metadata": {
        "id": "nVMz5a3p_B8w"
      },
      "source": [
        "## Model Version 2 - LSTM (Long Short-Term Memory)"
      ]
    },
    {
      "cell_type": "code",
      "execution_count": null,
      "metadata": {
        "id": "-YITMldP_B8w"
      },
      "outputs": [],
      "source": [
        "# Preprocess data\n",
        "df_train.head()"
      ]
    },
    {
      "cell_type": "code",
      "execution_count": null,
      "metadata": {
        "id": "w7U9_7rK_B8x"
      },
      "outputs": [],
      "source": [
        "model_tokenizer = Tokenizer()\n",
        "\n",
        "model_tokenizer.fit_on_texts(df_train[\"processed_text\"])\n",
        "word_index = model_tokenizer.word_index\n",
        "\n",
        "train_sequences = model_tokenizer.texts_to_sequences(df_train[\"processed_text\"])\n",
        "\n",
        "max_length = 100\n",
        "train_padded_sequences = pad_sequences(train_sequences, maxlen=max_length, truncating=\"post\")"
      ]
    },
    {
      "cell_type": "code",
      "execution_count": null,
      "metadata": {
        "id": "Irjyb6Ka_B8y"
      },
      "outputs": [],
      "source": [
        "test_sequences = model_tokenizer.texts_to_sequences(df_test[\"processed_text\"])\n",
        "test_sequences_padded = pad_sequences(test_sequences, maxlen = max_length)\n",
        "\n",
        "model_le = LabelEncoder()\n",
        "\n",
        "y_train_le = model_le.fit_transform(df_train[\"label\"])\n",
        "y_test_le = model_le.transform(df_test[\"label\"])\n",
        "\n",
        "y_train_encoded = to_categorical(y_train_le)\n",
        "y_test_encoded = to_categorical(y_test_le)\n",
        "\n",
        "vocab_size = len(model_tokenizer.word_index) + 1\n",
        "print(vocab_size)"
      ]
    },
    {
      "cell_type": "code",
      "execution_count": null,
      "metadata": {
        "id": "xem1LSDC_B8z"
      },
      "outputs": [],
      "source": [
        "embedding_dim = max_length"
      ]
    },
    {
      "cell_type": "code",
      "execution_count": null,
      "metadata": {
        "id": "hZgkGUjA_B8z"
      },
      "outputs": [],
      "source": [
        "# LSTM model build\n",
        "model_v2 = tf.keras.Sequential([Embedding(vocab_size, embedding_dim, input_length = max_length),\n",
        "  Bidirectional(LSTM(64)),\n",
        "  Dropout(0.4),\n",
        "  Dense(32, activation=\"leaky_relu\", # (Leaky Rectified Linear Unit)\n",
        "    kernel_regularizer = l1_l2(l1 = 0.01, l2 = 0.01)\n",
        "  ),\n",
        "  Dropout(0.4),\n",
        "  Dense(6, activation=\"softmax\")]\n",
        ")"
      ]
    },
    {
      "cell_type": "code",
      "execution_count": null,
      "metadata": {
        "id": "EB8nAXsG_B8z"
      },
      "outputs": [],
      "source": [
        "# Model Compile\n",
        "model_v2.compile(loss = \"categorical_crossentropy\",\n",
        "  optimizer = \"adam\",\n",
        "  metrics = [\"accuracy\", Precision(), Recall(), AUC()]\n",
        ")\n",
        "\n",
        "# Summary\n",
        "print(model_v2.summary())"
      ]
    },
    {
      "cell_type": "code",
      "execution_count": null,
      "metadata": {
        "id": "qvDkAghs1zOn"
      },
      "outputs": [],
      "source": [
        "test_sequences = model_tokenizer.texts_to_sequences(df_test[\"processed_text\"])\n",
        "test_sequences_padded = pad_sequences(test_sequences, maxlen = max_length)\n",
        "\n",
        "model_le = LabelEncoder()\n",
        "\n",
        "y_train_le = model_le.fit_transform(df_train[\"label\"])\n",
        "y_test_le = model_le.transform(df_test[\"label\"])\n",
        "\n",
        "y_train_encoded = to_categorical(y_train_le)input_data = np.array(train_padded_sequences)\n",
        "y_test_encoded = to_categorical(y_test_le)\n",
        "\n",
        "vocab_size = len(model_tokenizer.word_index) + 1\n",
        "print(vocab_size)"
      ]
    },
    {
      "cell_type": "code",
      "execution_count": null,
      "metadata": {
        "id": "KQy0YOXn1ymh"
      },
      "outputs": [],
      "source": [
        "test_sequences = model_tokenizer.texts_to_sequences(df_test[\"processed_text\"])\n",
        "test_sequences_padded = pad_sequences(test_sequences, maxlen = max_length)\n",
        "\n",
        "model_le = LabelEncoder()\n",
        "\n",
        "y_train_le = model_le.fit_transform(df_train[\"label\"])\n",
        "y_test_le = model_le.transform(df_test[\"label\"])\n",
        "\n",
        "y_train_encoded = to_categorical(y_train_le)\n",
        "y_test_encoded = to_categorical(y_test_le)\n",
        "\n",
        "vocab_size = len(model_tokenizer.word_index) + 1\n",
        "print(vocab_size)"
      ]
    },
    {
      "cell_type": "code",
      "execution_count": null,
      "metadata": {
        "id": "yjp2QrL0_B8z"
      },
      "outputs": [],
      "source": [
        "input_data = np.array(train_padded_sequences)\n",
        "output_date = np.array(y_train_encoded)\n",
        "\n",
        "num_epochs = 35\n",
        "validation_split_value = 0.2\n",
        "pacience_val = 5\n",
        "\n",
        "early_stopping = tf.keras.callbacks.EarlyStopping(patience = pacience_val)"
      ]
    },
    {
      "cell_type": "code",
      "execution_count": null,
      "metadata": {
        "id": "OZlcPqbv_B80"
      },
      "outputs": [],
      "source": [
        "%%time\n",
        "history = model_v2.fit(input_data,\n",
        "  output_date,\n",
        "  epochs=num_epochs,\n",
        "  verbose=1,\n",
        "  validation_split=validation_split_value,\n",
        "  callbacks=[early_stopping]\n",
        ")"
      ]
    },
    {
      "cell_type": "code",
      "execution_count": null,
      "metadata": {
        "id": "SUgzAiFc_B80"
      },
      "outputs": [],
      "source": [
        "# Error curves\n",
        "loss, val_loss = history.history[\"loss\"], history.history[\"val_loss\"]\n",
        "plt.plot(loss, label = \"Train error\")\n",
        "plt.plot(val_loss, label = \"Val error\")\n",
        "plt.legend()\n",
        "plt.show()"
      ]
    },
    {
      "cell_type": "code",
      "execution_count": null,
      "metadata": {
        "id": "1dok3ENI_B80"
      },
      "outputs": [],
      "source": [
        "# Test predicts\n",
        "test_predicts = model_v2.predict(test_sequences_padded)"
      ]
    },
    {
      "cell_type": "code",
      "execution_count": null,
      "metadata": {
        "id": "Hhp7Xb7v_B80"
      },
      "outputs": [],
      "source": [
        "predicted_labels = test_predicts.argmax(axis=1)\n",
        "\n",
        "print(classification_report(y_test_le, predicted_labels))"
      ]
    },
    {
      "cell_type": "code",
      "execution_count": null,
      "metadata": {
        "id": "s4TLf_Qx_B81"
      },
      "outputs": [],
      "source": [
        "# Confusion Matrix\n",
        "print(confusion_matrix(y_test_le, predicted_labels))"
      ]
    },
    {
      "cell_type": "code",
      "execution_count": null,
      "metadata": {
        "id": "2ZWpuQV6_B81"
      },
      "outputs": [],
      "source": [
        "# Accuracy score\n",
        "print(accuracy_score(y_test_le, predicted_labels))"
      ]
    },
    {
      "cell_type": "code",
      "execution_count": null,
      "metadata": {
        "id": "Zpo0Ffb-_B81"
      },
      "outputs": [],
      "source": [
        "# Saving the model\n",
        "model_v2.save(\"model_v2_dsa.keras\")"
      ]
    },
    {
      "cell_type": "code",
      "execution_count": null,
      "metadata": {
        "id": "SG0xH0ot_B81"
      },
      "outputs": [],
      "source": [
        "# Loading the saved Model\n",
        "loaded_model = load_model(\"model_v2_dsa.keras\")\n",
        "\n",
        "# New sentence (sentiment = fear)\n",
        "text = \"i even feel a little shaky\"\n",
        "\n",
        "df_new = pd.DataFrame({\"text\": [text]})\n",
        "df_new[\"processed_text\"] = df_new[\"text\"].apply(text_preprocess)\n",
        "sequences_new = model_tokenizer.texts_to_sequences(df_new[\"processed_text\"])\n",
        "sequences_new_padded = pad_sequences(sequences_new, maxlen = max_length)\n",
        "\n",
        "previsoes = loaded_model.predict(sequences_new_padded)\n",
        "classe_maior_prob = np.argmax(previsoes, axis = 1)\n",
        "class_name = model_le.inverse_transform(classe_maior_prob)\n",
        "\n",
        "class_name"
      ]
    },
    {
      "cell_type": "markdown",
      "metadata": {
        "id": "OVEydxHH_B82"
      },
      "source": [
        "## Model Version 3 - Fine Tuning of a pre-trained model"
      ]
    },
    {
      "cell_type": "code",
      "execution_count": 39,
      "metadata": {
        "id": "ofSLLm62_B83",
        "colab": {
          "base_uri": "https://localhost:8080/"
        },
        "outputId": "b50aef62-fa16-4987-daa9-58103c3b8626"
      },
      "outputs": [
        {
          "output_type": "stream",
          "name": "stderr",
          "text": [
            "100%|██████████| 50/50 [00:01<00:00, 36.13it/s]\n",
            "100%|██████████| 13/13 [00:00<00:00, 28.31it/s]\n",
            "100%|██████████| 8/8 [00:00<00:00, 28.95it/s]\n"
          ]
        }
      ],
      "source": [
        "def model_encode(texts, tokenizer, chunk_size=256, maxlen=512):\n",
        "    input_ids = []\n",
        "    attention_masks = []\n",
        "\n",
        "    for i in tqdm(range(0, len(texts), chunk_size)):\n",
        "        text_chunk = texts[i:i+chunk_size].tolist()\n",
        "        encodings = tokenizer(\n",
        "            text_chunk,\n",
        "            padding=\"max_length\",\n",
        "            truncation=True,\n",
        "            max_length=maxlen,\n",
        "            return_tensors=\"np\"\n",
        "        )\n",
        "        input_ids.extend(encodings[\"input_ids\"])\n",
        "        attention_masks.extend(encodings[\"attention_mask\"])\n",
        "\n",
        "    return np.array(input_ids), np.array(attention_masks)\n",
        "\n",
        "bert_tokenizer = transformers.DistilBertTokenizer.from_pretrained(\"distilbert-base-multilingual-cased\")\n",
        "bert_tokenizer.save_pretrained(\".\")\n",
        "\n",
        "fast_tokenizer = transformers.DistilBertTokenizerFast.from_pretrained(\"distilbert-base-multilingual-cased\")\n",
        "\n",
        "X_train, X_val, Y_train, Y_val = train_test_split(df_train[\"processed_text\"].values,\n",
        "  df_train[\"label\"].values,\n",
        "  test_size=0.2,\n",
        "  random_state=42,\n",
        "  stratify=df_train[\"label\"],\n",
        ")\n",
        "\n",
        "max_length = 100\n",
        "\n",
        "X_train_final, mask_train = model_encode(X_train, fast_tokenizer, maxlen=max_length)\n",
        "X_val_final, mask_val = model_encode(X_val, fast_tokenizer, maxlen=max_length)\n",
        "X_test_final, mask_test = model_encode(df_test[\"processed_text\"].to_numpy(),\n",
        "  fast_tokenizer,\n",
        "  maxlen=max_length,\n",
        ")"
      ]
    },
    {
      "cell_type": "code",
      "execution_count": 40,
      "metadata": {
        "id": "C9Yihpb3_B84"
      },
      "outputs": [],
      "source": [
        "df_le_v3 = LabelEncoder()\n",
        "\n",
        "y_train_le = df_le_v3.fit_transform(Y_train)\n",
        "y_val_le = df_le_v3.transform(Y_val)\n",
        "y_test_le = df_le_v3.transform(df_test[\"label\"])\n",
        "\n",
        "y_treino_encoded = to_categorical(y_train_le)\n",
        "y_valid_encoded = to_categorical(y_val_le)\n",
        "y_teste_encoded = to_categorical(y_test_le)\n",
        "\n",
        "BATCH_SIZE = 16\n",
        "\n",
        "train_dataset = (\n",
        "  tf.data.Dataset\n",
        "  .from_tensor_slices(((X_train_final, mask_train), y_treino_encoded))\n",
        "  .repeat()\n",
        "  .shuffle(2048)\n",
        "  .batch(BATCH_SIZE)\n",
        ")\n",
        "\n",
        "val_dataset = (\n",
        "  tf.data.Dataset\n",
        "  .from_tensor_slices(((X_val_final, mask_val), y_valid_encoded))\n",
        "  .batch(BATCH_SIZE)\n",
        "  .cache()\n",
        ")\n",
        "\n",
        "test_dataset = (\n",
        "  tf.data.Dataset\n",
        "  .from_tensor_slices(((X_test_final, mask_test), y_teste_encoded))\n",
        "  .batch(BATCH_SIZE)\n",
        ")"
      ]
    },
    {
      "cell_type": "code",
      "execution_count": 42,
      "metadata": {
        "id": "-XPmVgxp_B85"
      },
      "outputs": [],
      "source": [
        "def create_model_v3(transformer, max_len=512):\n",
        "    input_word_ids = tf.keras.layers.Input(\n",
        "        shape=(max_len,),\n",
        "        dtype=tf.int32,\n",
        "        name=\"input_word_ids\",\n",
        "    )\n",
        "    attention_mask = tf.keras.layers.Input(\n",
        "        shape=(max_len,),\n",
        "        dtype=tf.int32,\n",
        "        name=\"attention_mask\",\n",
        "    )\n",
        "    sequence_output = TransformerLayer(transformer)(\n",
        "        [\n",
        "            input_word_ids,\n",
        "            attention_mask,\n",
        "        ]\n",
        "    )\n",
        "\n",
        "    cls_token = sequence_output[:, 0, :]\n",
        "\n",
        "    out = Dense(6,\n",
        "      activation=\"softmax\",\n",
        "    )(cls_token)\n",
        "\n",
        "    model = tf.keras.Model(\n",
        "        inputs=[\n",
        "                  input_word_ids,\n",
        "                  attention_mask,\n",
        "                ],\n",
        "        outputs=out\n",
        "    )\n",
        "\n",
        "    model.compile(\n",
        "        optimizer=Adam(learning_rate=1e-5),\n",
        "        loss=\"categorical_crossentropy\",\n",
        "        metrics=[\n",
        "            \"accuracy\",\n",
        "            Precision(),\n",
        "            Recall(),\n",
        "            AUC()\n",
        "          ],\n",
        "    )\n",
        "\n",
        "    return model"
      ]
    },
    {
      "cell_type": "code",
      "execution_count": 64,
      "metadata": {
        "id": "uK_MVOZPs1I_"
      },
      "outputs": [],
      "source": [
        "@register_keras_serializable(package=\"Custom\", name=\"TransformerLayer\")\n",
        "class TransformerLayer(tf.keras.layers.Layer):\n",
        "    def __init__(self, transformer, **kwargs):\n",
        "        super().__init__(**kwargs)\n",
        "        self.transformer = transformer\n",
        "\n",
        "    def call(self, inputs):\n",
        "        input_ids, attention_mask = inputs\n",
        "        outputs = self.transformer(input_ids=input_ids, attention_mask=attention_mask)\n",
        "        return outputs.last_hidden_state\n",
        "\n",
        "    def get_config(self):\n",
        "        config = super().get_config()\n",
        "        config.update({\n",
        "            \"transformer_name\": self.transformer.name_or_path,\n",
        "        })\n",
        "        return config\n",
        "\n",
        "    @classmethod\n",
        "    def from_config(cls, config):\n",
        "        transformer_name = config.pop(\"transformer_name\")\n",
        "        transformer = TFDistilBertModel.from_pretrained(transformer_name)\n",
        "        return cls(transformer=transformer, **config)\n"
      ]
    },
    {
      "cell_type": "code",
      "execution_count": 65,
      "metadata": {
        "colab": {
          "base_uri": "https://localhost:8080/"
        },
        "id": "4xmhiHJ3_B85",
        "outputId": "bde0b864-7c47-4529-f2d6-77c5c6283eae"
      },
      "outputs": [
        {
          "output_type": "stream",
          "name": "stderr",
          "text": [
            "Some weights of the PyTorch model were not used when initializing the TF 2.0 model TFDistilBertModel: ['vocab_projector.bias', 'vocab_transform.bias', 'vocab_layer_norm.bias', 'vocab_layer_norm.weight', 'vocab_transform.weight']\n",
            "- This IS expected if you are initializing TFDistilBertModel from a PyTorch model trained on another task or with another architecture (e.g. initializing a TFBertForSequenceClassification model from a BertForPreTraining model).\n",
            "- This IS NOT expected if you are initializing TFDistilBertModel from a PyTorch model that you expect to be exactly identical (e.g. initializing a TFBertForSequenceClassification model from a BertForSequenceClassification model).\n",
            "All the weights of TFDistilBertModel were initialized from the PyTorch model.\n",
            "If your task is similar to the task the model of the checkpoint was trained on, you can already use TFDistilBertModel for predictions without further training.\n"
          ]
        }
      ],
      "source": [
        "transformer_layer = TFDistilBertModel.from_pretrained(\"distilbert-base-multilingual-cased\")"
      ]
    },
    {
      "cell_type": "code",
      "execution_count": 66,
      "metadata": {
        "id": "IWYmfHO2_B86"
      },
      "outputs": [],
      "source": [
        "model_v3 = create_model_v3(transformer_layer, max_len=max_length)"
      ]
    },
    {
      "cell_type": "code",
      "execution_count": 67,
      "metadata": {
        "colab": {
          "base_uri": "https://localhost:8080/",
          "height": 337
        },
        "id": "JgJ2iNaS_B86",
        "outputId": "2ced5fd9-5fa6-4131-dd09-74d6f28aed86"
      },
      "outputs": [
        {
          "output_type": "display_data",
          "data": {
            "text/plain": [
              "\u001b[1mModel: \"functional_2\"\u001b[0m\n"
            ],
            "text/html": [
              "<pre style=\"white-space:pre;overflow-x:auto;line-height:normal;font-family:Menlo,'DejaVu Sans Mono',consolas,'Courier New',monospace\"><span style=\"font-weight: bold\">Model: \"functional_2\"</span>\n",
              "</pre>\n"
            ]
          },
          "metadata": {}
        },
        {
          "output_type": "display_data",
          "data": {
            "text/plain": [
              "┏━━━━━━━━━━━━━━━━━━━━━━━━━━━┳━━━━━━━━━━━━━━━━━━━━━━━━┳━━━━━━━━━━━━━━━━┳━━━━━━━━━━━━━━━━━━━━━━━━┓\n",
              "┃\u001b[1m \u001b[0m\u001b[1mLayer (type)             \u001b[0m\u001b[1m \u001b[0m┃\u001b[1m \u001b[0m\u001b[1mOutput Shape          \u001b[0m\u001b[1m \u001b[0m┃\u001b[1m \u001b[0m\u001b[1m       Param #\u001b[0m\u001b[1m \u001b[0m┃\u001b[1m \u001b[0m\u001b[1mConnected to          \u001b[0m\u001b[1m \u001b[0m┃\n",
              "┡━━━━━━━━━━━━━━━━━━━━━━━━━━━╇━━━━━━━━━━━━━━━━━━━━━━━━╇━━━━━━━━━━━━━━━━╇━━━━━━━━━━━━━━━━━━━━━━━━┩\n",
              "│ input_word_ids            │ (\u001b[38;5;45mNone\u001b[0m, \u001b[38;5;34m100\u001b[0m)            │              \u001b[38;5;34m0\u001b[0m │ -                      │\n",
              "│ (\u001b[38;5;33mInputLayer\u001b[0m)              │                        │                │                        │\n",
              "├───────────────────────────┼────────────────────────┼────────────────┼────────────────────────┤\n",
              "│ attention_mask            │ (\u001b[38;5;45mNone\u001b[0m, \u001b[38;5;34m100\u001b[0m)            │              \u001b[38;5;34m0\u001b[0m │ -                      │\n",
              "│ (\u001b[38;5;33mInputLayer\u001b[0m)              │                        │                │                        │\n",
              "├───────────────────────────┼────────────────────────┼────────────────┼────────────────────────┤\n",
              "│ transformer_layer_2       │ (\u001b[38;5;45mNone\u001b[0m, \u001b[38;5;34m100\u001b[0m, \u001b[38;5;34m768\u001b[0m)       │              \u001b[38;5;34m0\u001b[0m │ input_word_ids[\u001b[38;5;34m0\u001b[0m][\u001b[38;5;34m0\u001b[0m],  │\n",
              "│ (\u001b[38;5;33mTransformerLayer\u001b[0m)        │                        │                │ attention_mask[\u001b[38;5;34m0\u001b[0m][\u001b[38;5;34m0\u001b[0m]   │\n",
              "├───────────────────────────┼────────────────────────┼────────────────┼────────────────────────┤\n",
              "│ get_item_2 (\u001b[38;5;33mGetItem\u001b[0m)      │ (\u001b[38;5;45mNone\u001b[0m, \u001b[38;5;34m768\u001b[0m)            │              \u001b[38;5;34m0\u001b[0m │ transformer_layer_2[\u001b[38;5;34m0\u001b[0m… │\n",
              "├───────────────────────────┼────────────────────────┼────────────────┼────────────────────────┤\n",
              "│ dense_2 (\u001b[38;5;33mDense\u001b[0m)           │ (\u001b[38;5;45mNone\u001b[0m, \u001b[38;5;34m6\u001b[0m)              │          \u001b[38;5;34m4,614\u001b[0m │ get_item_2[\u001b[38;5;34m0\u001b[0m][\u001b[38;5;34m0\u001b[0m]       │\n",
              "└───────────────────────────┴────────────────────────┴────────────────┴────────────────────────┘\n"
            ],
            "text/html": [
              "<pre style=\"white-space:pre;overflow-x:auto;line-height:normal;font-family:Menlo,'DejaVu Sans Mono',consolas,'Courier New',monospace\">┏━━━━━━━━━━━━━━━━━━━━━━━━━━━┳━━━━━━━━━━━━━━━━━━━━━━━━┳━━━━━━━━━━━━━━━━┳━━━━━━━━━━━━━━━━━━━━━━━━┓\n",
              "┃<span style=\"font-weight: bold\"> Layer (type)              </span>┃<span style=\"font-weight: bold\"> Output Shape           </span>┃<span style=\"font-weight: bold\">        Param # </span>┃<span style=\"font-weight: bold\"> Connected to           </span>┃\n",
              "┡━━━━━━━━━━━━━━━━━━━━━━━━━━━╇━━━━━━━━━━━━━━━━━━━━━━━━╇━━━━━━━━━━━━━━━━╇━━━━━━━━━━━━━━━━━━━━━━━━┩\n",
              "│ input_word_ids            │ (<span style=\"color: #00d7ff; text-decoration-color: #00d7ff\">None</span>, <span style=\"color: #00af00; text-decoration-color: #00af00\">100</span>)            │              <span style=\"color: #00af00; text-decoration-color: #00af00\">0</span> │ -                      │\n",
              "│ (<span style=\"color: #0087ff; text-decoration-color: #0087ff\">InputLayer</span>)              │                        │                │                        │\n",
              "├───────────────────────────┼────────────────────────┼────────────────┼────────────────────────┤\n",
              "│ attention_mask            │ (<span style=\"color: #00d7ff; text-decoration-color: #00d7ff\">None</span>, <span style=\"color: #00af00; text-decoration-color: #00af00\">100</span>)            │              <span style=\"color: #00af00; text-decoration-color: #00af00\">0</span> │ -                      │\n",
              "│ (<span style=\"color: #0087ff; text-decoration-color: #0087ff\">InputLayer</span>)              │                        │                │                        │\n",
              "├───────────────────────────┼────────────────────────┼────────────────┼────────────────────────┤\n",
              "│ transformer_layer_2       │ (<span style=\"color: #00d7ff; text-decoration-color: #00d7ff\">None</span>, <span style=\"color: #00af00; text-decoration-color: #00af00\">100</span>, <span style=\"color: #00af00; text-decoration-color: #00af00\">768</span>)       │              <span style=\"color: #00af00; text-decoration-color: #00af00\">0</span> │ input_word_ids[<span style=\"color: #00af00; text-decoration-color: #00af00\">0</span>][<span style=\"color: #00af00; text-decoration-color: #00af00\">0</span>],  │\n",
              "│ (<span style=\"color: #0087ff; text-decoration-color: #0087ff\">TransformerLayer</span>)        │                        │                │ attention_mask[<span style=\"color: #00af00; text-decoration-color: #00af00\">0</span>][<span style=\"color: #00af00; text-decoration-color: #00af00\">0</span>]   │\n",
              "├───────────────────────────┼────────────────────────┼────────────────┼────────────────────────┤\n",
              "│ get_item_2 (<span style=\"color: #0087ff; text-decoration-color: #0087ff\">GetItem</span>)      │ (<span style=\"color: #00d7ff; text-decoration-color: #00d7ff\">None</span>, <span style=\"color: #00af00; text-decoration-color: #00af00\">768</span>)            │              <span style=\"color: #00af00; text-decoration-color: #00af00\">0</span> │ transformer_layer_2[<span style=\"color: #00af00; text-decoration-color: #00af00\">0</span>… │\n",
              "├───────────────────────────┼────────────────────────┼────────────────┼────────────────────────┤\n",
              "│ dense_2 (<span style=\"color: #0087ff; text-decoration-color: #0087ff\">Dense</span>)           │ (<span style=\"color: #00d7ff; text-decoration-color: #00d7ff\">None</span>, <span style=\"color: #00af00; text-decoration-color: #00af00\">6</span>)              │          <span style=\"color: #00af00; text-decoration-color: #00af00\">4,614</span> │ get_item_2[<span style=\"color: #00af00; text-decoration-color: #00af00\">0</span>][<span style=\"color: #00af00; text-decoration-color: #00af00\">0</span>]       │\n",
              "└───────────────────────────┴────────────────────────┴────────────────┴────────────────────────┘\n",
              "</pre>\n"
            ]
          },
          "metadata": {}
        },
        {
          "output_type": "display_data",
          "data": {
            "text/plain": [
              "\u001b[1m Total params: \u001b[0m\u001b[38;5;34m4,614\u001b[0m (18.02 KB)\n"
            ],
            "text/html": [
              "<pre style=\"white-space:pre;overflow-x:auto;line-height:normal;font-family:Menlo,'DejaVu Sans Mono',consolas,'Courier New',monospace\"><span style=\"font-weight: bold\"> Total params: </span><span style=\"color: #00af00; text-decoration-color: #00af00\">4,614</span> (18.02 KB)\n",
              "</pre>\n"
            ]
          },
          "metadata": {}
        },
        {
          "output_type": "display_data",
          "data": {
            "text/plain": [
              "\u001b[1m Trainable params: \u001b[0m\u001b[38;5;34m4,614\u001b[0m (18.02 KB)\n"
            ],
            "text/html": [
              "<pre style=\"white-space:pre;overflow-x:auto;line-height:normal;font-family:Menlo,'DejaVu Sans Mono',consolas,'Courier New',monospace\"><span style=\"font-weight: bold\"> Trainable params: </span><span style=\"color: #00af00; text-decoration-color: #00af00\">4,614</span> (18.02 KB)\n",
              "</pre>\n"
            ]
          },
          "metadata": {}
        },
        {
          "output_type": "display_data",
          "data": {
            "text/plain": [
              "\u001b[1m Non-trainable params: \u001b[0m\u001b[38;5;34m0\u001b[0m (0.00 B)\n"
            ],
            "text/html": [
              "<pre style=\"white-space:pre;overflow-x:auto;line-height:normal;font-family:Menlo,'DejaVu Sans Mono',consolas,'Courier New',monospace\"><span style=\"font-weight: bold\"> Non-trainable params: </span><span style=\"color: #00af00; text-decoration-color: #00af00\">0</span> (0.00 B)\n",
              "</pre>\n"
            ]
          },
          "metadata": {}
        }
      ],
      "source": [
        "model_v3.summary()"
      ]
    },
    {
      "cell_type": "code",
      "execution_count": 68,
      "metadata": {
        "id": "Jow5L-RQ_B86"
      },
      "outputs": [],
      "source": [
        "model_v3.layers[0].trainable = False\n",
        "model_v3.layers[1].trainable = False\n",
        "model_v3.layers[2].trainable = False"
      ]
    },
    {
      "cell_type": "code",
      "execution_count": 69,
      "metadata": {
        "colab": {
          "base_uri": "https://localhost:8080/",
          "height": 337
        },
        "id": "n-qNZdvp_B86",
        "outputId": "3853589c-f3f4-40a8-cfa9-b0d56222316c"
      },
      "outputs": [
        {
          "output_type": "display_data",
          "data": {
            "text/plain": [
              "\u001b[1mModel: \"functional_2\"\u001b[0m\n"
            ],
            "text/html": [
              "<pre style=\"white-space:pre;overflow-x:auto;line-height:normal;font-family:Menlo,'DejaVu Sans Mono',consolas,'Courier New',monospace\"><span style=\"font-weight: bold\">Model: \"functional_2\"</span>\n",
              "</pre>\n"
            ]
          },
          "metadata": {}
        },
        {
          "output_type": "display_data",
          "data": {
            "text/plain": [
              "┏━━━━━━━━━━━━━━━━━━━━━━━━━━━┳━━━━━━━━━━━━━━━━━━━━━━━━┳━━━━━━━━━━━━━━━━┳━━━━━━━━━━━━━━━━━━━━━━━━┓\n",
              "┃\u001b[1m \u001b[0m\u001b[1mLayer (type)             \u001b[0m\u001b[1m \u001b[0m┃\u001b[1m \u001b[0m\u001b[1mOutput Shape          \u001b[0m\u001b[1m \u001b[0m┃\u001b[1m \u001b[0m\u001b[1m       Param #\u001b[0m\u001b[1m \u001b[0m┃\u001b[1m \u001b[0m\u001b[1mConnected to          \u001b[0m\u001b[1m \u001b[0m┃\n",
              "┡━━━━━━━━━━━━━━━━━━━━━━━━━━━╇━━━━━━━━━━━━━━━━━━━━━━━━╇━━━━━━━━━━━━━━━━╇━━━━━━━━━━━━━━━━━━━━━━━━┩\n",
              "│ input_word_ids            │ (\u001b[38;5;45mNone\u001b[0m, \u001b[38;5;34m100\u001b[0m)            │              \u001b[38;5;34m0\u001b[0m │ -                      │\n",
              "│ (\u001b[38;5;33mInputLayer\u001b[0m)              │                        │                │                        │\n",
              "├───────────────────────────┼────────────────────────┼────────────────┼────────────────────────┤\n",
              "│ attention_mask            │ (\u001b[38;5;45mNone\u001b[0m, \u001b[38;5;34m100\u001b[0m)            │              \u001b[38;5;34m0\u001b[0m │ -                      │\n",
              "│ (\u001b[38;5;33mInputLayer\u001b[0m)              │                        │                │                        │\n",
              "├───────────────────────────┼────────────────────────┼────────────────┼────────────────────────┤\n",
              "│ transformer_layer_2       │ (\u001b[38;5;45mNone\u001b[0m, \u001b[38;5;34m100\u001b[0m, \u001b[38;5;34m768\u001b[0m)       │              \u001b[38;5;34m0\u001b[0m │ input_word_ids[\u001b[38;5;34m0\u001b[0m][\u001b[38;5;34m0\u001b[0m],  │\n",
              "│ (\u001b[38;5;33mTransformerLayer\u001b[0m)        │                        │                │ attention_mask[\u001b[38;5;34m0\u001b[0m][\u001b[38;5;34m0\u001b[0m]   │\n",
              "├───────────────────────────┼────────────────────────┼────────────────┼────────────────────────┤\n",
              "│ get_item_2 (\u001b[38;5;33mGetItem\u001b[0m)      │ (\u001b[38;5;45mNone\u001b[0m, \u001b[38;5;34m768\u001b[0m)            │              \u001b[38;5;34m0\u001b[0m │ transformer_layer_2[\u001b[38;5;34m0\u001b[0m… │\n",
              "├───────────────────────────┼────────────────────────┼────────────────┼────────────────────────┤\n",
              "│ dense_2 (\u001b[38;5;33mDense\u001b[0m)           │ (\u001b[38;5;45mNone\u001b[0m, \u001b[38;5;34m6\u001b[0m)              │          \u001b[38;5;34m4,614\u001b[0m │ get_item_2[\u001b[38;5;34m0\u001b[0m][\u001b[38;5;34m0\u001b[0m]       │\n",
              "└───────────────────────────┴────────────────────────┴────────────────┴────────────────────────┘\n"
            ],
            "text/html": [
              "<pre style=\"white-space:pre;overflow-x:auto;line-height:normal;font-family:Menlo,'DejaVu Sans Mono',consolas,'Courier New',monospace\">┏━━━━━━━━━━━━━━━━━━━━━━━━━━━┳━━━━━━━━━━━━━━━━━━━━━━━━┳━━━━━━━━━━━━━━━━┳━━━━━━━━━━━━━━━━━━━━━━━━┓\n",
              "┃<span style=\"font-weight: bold\"> Layer (type)              </span>┃<span style=\"font-weight: bold\"> Output Shape           </span>┃<span style=\"font-weight: bold\">        Param # </span>┃<span style=\"font-weight: bold\"> Connected to           </span>┃\n",
              "┡━━━━━━━━━━━━━━━━━━━━━━━━━━━╇━━━━━━━━━━━━━━━━━━━━━━━━╇━━━━━━━━━━━━━━━━╇━━━━━━━━━━━━━━━━━━━━━━━━┩\n",
              "│ input_word_ids            │ (<span style=\"color: #00d7ff; text-decoration-color: #00d7ff\">None</span>, <span style=\"color: #00af00; text-decoration-color: #00af00\">100</span>)            │              <span style=\"color: #00af00; text-decoration-color: #00af00\">0</span> │ -                      │\n",
              "│ (<span style=\"color: #0087ff; text-decoration-color: #0087ff\">InputLayer</span>)              │                        │                │                        │\n",
              "├───────────────────────────┼────────────────────────┼────────────────┼────────────────────────┤\n",
              "│ attention_mask            │ (<span style=\"color: #00d7ff; text-decoration-color: #00d7ff\">None</span>, <span style=\"color: #00af00; text-decoration-color: #00af00\">100</span>)            │              <span style=\"color: #00af00; text-decoration-color: #00af00\">0</span> │ -                      │\n",
              "│ (<span style=\"color: #0087ff; text-decoration-color: #0087ff\">InputLayer</span>)              │                        │                │                        │\n",
              "├───────────────────────────┼────────────────────────┼────────────────┼────────────────────────┤\n",
              "│ transformer_layer_2       │ (<span style=\"color: #00d7ff; text-decoration-color: #00d7ff\">None</span>, <span style=\"color: #00af00; text-decoration-color: #00af00\">100</span>, <span style=\"color: #00af00; text-decoration-color: #00af00\">768</span>)       │              <span style=\"color: #00af00; text-decoration-color: #00af00\">0</span> │ input_word_ids[<span style=\"color: #00af00; text-decoration-color: #00af00\">0</span>][<span style=\"color: #00af00; text-decoration-color: #00af00\">0</span>],  │\n",
              "│ (<span style=\"color: #0087ff; text-decoration-color: #0087ff\">TransformerLayer</span>)        │                        │                │ attention_mask[<span style=\"color: #00af00; text-decoration-color: #00af00\">0</span>][<span style=\"color: #00af00; text-decoration-color: #00af00\">0</span>]   │\n",
              "├───────────────────────────┼────────────────────────┼────────────────┼────────────────────────┤\n",
              "│ get_item_2 (<span style=\"color: #0087ff; text-decoration-color: #0087ff\">GetItem</span>)      │ (<span style=\"color: #00d7ff; text-decoration-color: #00d7ff\">None</span>, <span style=\"color: #00af00; text-decoration-color: #00af00\">768</span>)            │              <span style=\"color: #00af00; text-decoration-color: #00af00\">0</span> │ transformer_layer_2[<span style=\"color: #00af00; text-decoration-color: #00af00\">0</span>… │\n",
              "├───────────────────────────┼────────────────────────┼────────────────┼────────────────────────┤\n",
              "│ dense_2 (<span style=\"color: #0087ff; text-decoration-color: #0087ff\">Dense</span>)           │ (<span style=\"color: #00d7ff; text-decoration-color: #00d7ff\">None</span>, <span style=\"color: #00af00; text-decoration-color: #00af00\">6</span>)              │          <span style=\"color: #00af00; text-decoration-color: #00af00\">4,614</span> │ get_item_2[<span style=\"color: #00af00; text-decoration-color: #00af00\">0</span>][<span style=\"color: #00af00; text-decoration-color: #00af00\">0</span>]       │\n",
              "└───────────────────────────┴────────────────────────┴────────────────┴────────────────────────┘\n",
              "</pre>\n"
            ]
          },
          "metadata": {}
        },
        {
          "output_type": "display_data",
          "data": {
            "text/plain": [
              "\u001b[1m Total params: \u001b[0m\u001b[38;5;34m4,614\u001b[0m (18.02 KB)\n"
            ],
            "text/html": [
              "<pre style=\"white-space:pre;overflow-x:auto;line-height:normal;font-family:Menlo,'DejaVu Sans Mono',consolas,'Courier New',monospace\"><span style=\"font-weight: bold\"> Total params: </span><span style=\"color: #00af00; text-decoration-color: #00af00\">4,614</span> (18.02 KB)\n",
              "</pre>\n"
            ]
          },
          "metadata": {}
        },
        {
          "output_type": "display_data",
          "data": {
            "text/plain": [
              "\u001b[1m Trainable params: \u001b[0m\u001b[38;5;34m4,614\u001b[0m (18.02 KB)\n"
            ],
            "text/html": [
              "<pre style=\"white-space:pre;overflow-x:auto;line-height:normal;font-family:Menlo,'DejaVu Sans Mono',consolas,'Courier New',monospace\"><span style=\"font-weight: bold\"> Trainable params: </span><span style=\"color: #00af00; text-decoration-color: #00af00\">4,614</span> (18.02 KB)\n",
              "</pre>\n"
            ]
          },
          "metadata": {}
        },
        {
          "output_type": "display_data",
          "data": {
            "text/plain": [
              "\u001b[1m Non-trainable params: \u001b[0m\u001b[38;5;34m0\u001b[0m (0.00 B)\n"
            ],
            "text/html": [
              "<pre style=\"white-space:pre;overflow-x:auto;line-height:normal;font-family:Menlo,'DejaVu Sans Mono',consolas,'Courier New',monospace\"><span style=\"font-weight: bold\"> Non-trainable params: </span><span style=\"color: #00af00; text-decoration-color: #00af00\">0</span> (0.00 B)\n",
              "</pre>\n"
            ]
          },
          "metadata": {}
        }
      ],
      "source": [
        "model_v3.summary()"
      ]
    },
    {
      "cell_type": "code",
      "execution_count": 70,
      "metadata": {
        "id": "UAtPTHoz_B86"
      },
      "outputs": [],
      "source": [
        "n_steps = X_train_final.shape[0] // BATCH_SIZE\n",
        "num_epochs = 3"
      ]
    },
    {
      "cell_type": "code",
      "execution_count": 71,
      "metadata": {
        "colab": {
          "base_uri": "https://localhost:8080/"
        },
        "id": "e8ZqAHgj_B87",
        "outputId": "b2a8f080-fcf2-4b95-ea35-587245d5d97e"
      },
      "outputs": [
        {
          "output_type": "stream",
          "name": "stdout",
          "text": [
            "Epoch 1/3\n",
            "\u001b[1m800/800\u001b[0m \u001b[32m━━━━━━━━━━━━━━━━━━━━\u001b[0m\u001b[37m\u001b[0m \u001b[1m64s\u001b[0m 63ms/step - accuracy: 0.1018 - auc_2: 0.3882 - loss: 2.0854 - precision_2: 0.0000e+00 - recall_2: 0.0000e+00 - val_accuracy: 0.2928 - val_auc_2: 0.6746 - val_loss: 1.6713 - val_precision_2: 0.0000e+00 - val_recall_2: 0.0000e+00\n",
            "Epoch 2/3\n",
            "\u001b[1m800/800\u001b[0m \u001b[32m━━━━━━━━━━━━━━━━━━━━\u001b[0m\u001b[37m\u001b[0m \u001b[1m47s\u001b[0m 59ms/step - accuracy: 0.3058 - auc_2: 0.6899 - loss: 1.6418 - precision_2: 0.0000e+00 - recall_2: 0.0000e+00 - val_accuracy: 0.3256 - val_auc_2: 0.7146 - val_loss: 1.5890 - val_precision_2: 0.5000 - val_recall_2: 6.2500e-04\n",
            "Epoch 3/3\n",
            "\u001b[1m800/800\u001b[0m \u001b[32m━━━━━━━━━━━━━━━━━━━━\u001b[0m\u001b[37m\u001b[0m \u001b[1m44s\u001b[0m 56ms/step - accuracy: 0.3329 - auc_2: 0.7167 - loss: 1.5830 - precision_2: 0.3416 - recall_2: 6.0122e-04 - val_accuracy: 0.3388 - val_auc_2: 0.7224 - val_loss: 1.5714 - val_precision_2: 0.4286 - val_recall_2: 9.3750e-04\n",
            "CPU times: user 43.8 s, sys: 5.4 s, total: 49.2 s\n",
            "Wall time: 2min 35s\n"
          ]
        }
      ],
      "source": [
        "%%time\n",
        "history = model_v3.fit(train_dataset, steps_per_epoch=n_steps, validation_data=val_dataset, epochs=num_epochs)"
      ]
    },
    {
      "cell_type": "code",
      "execution_count": 72,
      "metadata": {
        "colab": {
          "base_uri": "https://localhost:8080/",
          "height": 430
        },
        "id": "1Mc2vFw4_B87",
        "outputId": "2991cf9e-c016-416c-a42c-dd6a65087b54"
      },
      "outputs": [
        {
          "output_type": "display_data",
          "data": {
            "text/plain": [
              "<Figure size 640x480 with 1 Axes>"
            ],
            "image/png": "[encoded data removed]"
          },
          "metadata": {}
        }
      ],
      "source": [
        "loss, val_loss = history.history[\"loss\"], history.history[\"val_loss\"]\n",
        "plt.plot(loss, label = \"Train error\")\n",
        "plt.plot(val_loss, label = \"Val error\")\n",
        "plt.legend()\n",
        "plt.show()"
      ]
    },
    {
      "cell_type": "code",
      "execution_count": 73,
      "metadata": {
        "colab": {
          "base_uri": "https://localhost:8080/"
        },
        "id": "pQg_EGH0_B87",
        "outputId": "02e96db3-c99f-4362-dfcf-4ea35dec366e"
      },
      "outputs": [
        {
          "output_type": "stream",
          "name": "stderr",
          "text": [
            "100%|██████████| 8/8 [00:00<00:00, 66.21it/s]\n"
          ]
        },
        {
          "output_type": "stream",
          "name": "stdout",
          "text": [
            "\u001b[1m63/63\u001b[0m \u001b[32m━━━━━━━━━━━━━━━━━━━━\u001b[0m\u001b[37m\u001b[0m \u001b[1m13s\u001b[0m 184ms/step\n",
            "              precision    recall  f1-score   support\n",
            "\n",
            "           0       0.00      0.00      0.00       275\n",
            "           1       0.00      0.00      0.00       224\n",
            "           2       0.37      0.73      0.49       695\n",
            "           3       0.00      0.00      0.00       159\n",
            "           4       0.33      0.36      0.35       581\n",
            "           5       0.00      0.00      0.00        66\n",
            "\n",
            "    accuracy                           0.36      2000\n",
            "   macro avg       0.12      0.18      0.14      2000\n",
            "weighted avg       0.23      0.36      0.27      2000\n",
            "\n"
          ]
        }
      ],
      "source": [
        "X_test_final, mask_test = model_encode(\n",
        "    df_test[\"processed_text\"].to_numpy(),\n",
        "    fast_tokenizer,\n",
        "    maxlen = max_length\n",
        ")\n",
        "\n",
        "model_predicts = model_v3.predict((X_test_final, mask_test))\n",
        "predicted_labels = model_predicts.argmax(axis = 1)\n",
        "\n",
        "print(classification_report(y_test_le, predicted_labels))"
      ]
    },
    {
      "cell_type": "code",
      "execution_count": 74,
      "metadata": {
        "colab": {
          "base_uri": "https://localhost:8080/"
        },
        "id": "JKE_yR2o_B87",
        "outputId": "090a6099-e0b4-4f1c-d87b-15c868f06356"
      },
      "outputs": [
        {
          "output_type": "stream",
          "name": "stdout",
          "text": [
            "[[  0   0 182   0  93   0]\n",
            " [  0   0 135   0  89   0]\n",
            " [  0   0 506   0 189   0]\n",
            " [  0   0 128   0  31   0]\n",
            " [  1   0 371   0 209   0]\n",
            " [  0   0  51   0  15   0]]\n"
          ]
        }
      ],
      "source": [
        "print(confusion_matrix(y_test_le, predicted_labels))"
      ]
    },
    {
      "cell_type": "code",
      "execution_count": 75,
      "metadata": {
        "colab": {
          "base_uri": "https://localhost:8080/"
        },
        "id": "b6YGnMZr_B87",
        "outputId": "e757b988-2a84-4fde-a214-d7d2d1f2d01f"
      },
      "outputs": [
        {
          "output_type": "stream",
          "name": "stdout",
          "text": [
            "0.3575\n"
          ]
        }
      ],
      "source": [
        "print(accuracy_score(y_test_le, predicted_labels))"
      ]
    },
    {
      "cell_type": "code",
      "execution_count": 76,
      "metadata": {
        "id": "yGkLuWHe_B88"
      },
      "outputs": [],
      "source": [
        "model_v3.save(\"model_v3.keras\")"
      ]
    },
    {
      "cell_type": "code",
      "execution_count": 77,
      "metadata": {
        "id": "4pebICRJ_B88",
        "outputId": "8b19495a-4753-4571-ad5c-e5cc2aea45c6",
        "colab": {
          "base_uri": "https://localhost:8080/"
        }
      },
      "outputs": [
        {
          "output_type": "stream",
          "name": "stderr",
          "text": [
            "Some weights of the PyTorch model were not used when initializing the TF 2.0 model TFDistilBertModel: ['vocab_projector.bias', 'vocab_transform.bias', 'vocab_layer_norm.bias', 'vocab_layer_norm.weight', 'vocab_transform.weight']\n",
            "- This IS expected if you are initializing TFDistilBertModel from a PyTorch model trained on another task or with another architecture (e.g. initializing a TFBertForSequenceClassification model from a BertForPreTraining model).\n",
            "- This IS NOT expected if you are initializing TFDistilBertModel from a PyTorch model that you expect to be exactly identical (e.g. initializing a TFBertForSequenceClassification model from a BertForSequenceClassification model).\n",
            "All the weights of TFDistilBertModel were initialized from the PyTorch model.\n",
            "If your task is similar to the task the model of the checkpoint was trained on, you can already use TFDistilBertModel for predictions without further training.\n",
            "100%|██████████| 1/1 [00:00<00:00, 1117.59it/s]\n"
          ]
        },
        {
          "output_type": "stream",
          "name": "stdout",
          "text": [
            "\u001b[1m1/1\u001b[0m \u001b[32m━━━━━━━━━━━━━━━━━━━━\u001b[0m\u001b[37m\u001b[0m \u001b[1m1s\u001b[0m 1s/step\n"
          ]
        },
        {
          "output_type": "execute_result",
          "data": {
            "text/plain": [
              "array(['joy'], dtype=object)"
            ]
          },
          "metadata": {},
          "execution_count": 77
        }
      ],
      "source": [
        "from transformers import TFDistilBertModel\n",
        "from tensorflow.keras.models import load_model\n",
        "from tensorflow.keras.utils import custom_object_scope\n",
        "\n",
        "model_loaded = load_model(\n",
        "    \"model_v3.keras\",\n",
        "    custom_objects = {\"TransformerLayer\": TransformerLayer}\n",
        ")\n",
        "\n",
        "text = \"i even feel a little shaky\"\n",
        "df_new = pd.DataFrame({'text': [text]})\n",
        "df_new['processed_text'] = df_new['text'].apply(text_preprocess)\n",
        "novos_dados = model_encode(df_new['processed_text'], fast_tokenizer, maxlen = max_length)\n",
        "\n",
        "predict = model_v3.predict(novos_dados)\n",
        "high_prob_class = np.argmax(predict, axis = 1)\n",
        "\n",
        "class_name = df_le_v3.inverse_transform(high_prob_class)\n",
        "class_name"
      ]
    },
    {
      "cell_type": "code",
      "execution_count": 78,
      "metadata": {
        "colab": {
          "base_uri": "https://localhost:8080/"
        },
        "id": "A0zpY690_B8-",
        "outputId": "1201f73b-3afb-49ee-e72a-591db46a35d8"
      },
      "outputs": [
        {
          "output_type": "stream",
          "name": "stdout",
          "text": [
            "env: TOKENIZERS_PARALLELISM=false\n"
          ]
        }
      ],
      "source": [
        "%env TOKENIZERS_PARALLELISM=false"
      ]
    },
    {
      "cell_type": "code",
      "source": [],
      "metadata": {
        "id": "IkU33Iekv7Oy"
      },
      "execution_count": null,
      "outputs": []
    }
  ],
  "metadata": {
    "accelerator": "GPU",
    "colab": {
      "gpuType": "T4",
      "provenance": []
    },
    "kernelspec": {
      "display_name": "Python 3",
      "name": "python3"
    },
    "language_info": {
      "codemirror_mode": {
        "name": "ipython",
        "version": 3
      },
      "file_extension": ".py",
      "mimetype": "text/x-python",
      "name": "python",
      "nbconvert_exporter": "python",
      "pygments_lexer": "ipython3",
      "version": "3.11.5"
    }
  },
  "nbformat": 4,
  "nbformat_minor": 0
}