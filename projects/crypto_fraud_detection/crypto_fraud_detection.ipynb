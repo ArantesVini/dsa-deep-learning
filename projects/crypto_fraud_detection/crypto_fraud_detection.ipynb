{
 "cells": [
  {
   "cell_type": "code",
   "execution_count": null,
   "metadata": {},
   "outputs": [],
   "source": [
    "import sys\n",
    "print(sys.executable)"
   ]
  },
  {
   "cell_type": "code",
   "execution_count": null,
   "metadata": {},
   "outputs": [],
   "source": [
    "!{sys.executable} -m pip install watermark"
   ]
  },
  {
   "cell_type": "code",
   "execution_count": null,
   "metadata": {},
   "outputs": [],
   "source": [
    "%env TF_CPP_MIN_LOG_LEVEL=3"
   ]
  },
  {
   "cell_type": "code",
   "execution_count": null,
   "metadata": {
    "_cell_guid": "b1076dfc-b9ad-4769-8c92-a6c4dae69d19",
    "_uuid": "8f2839f25d086af736a60e9eeb907d3b93b6e0e5",
    "execution": {
     "iopub.execute_input": "2021-01-09T23:01:20.447951Z",
     "iopub.status.busy": "2021-01-09T23:01:20.447378Z",
     "iopub.status.idle": "2021-01-09T23:01:22.653435Z",
     "shell.execute_reply": "2021-01-09T23:01:22.653878Z"
    },
    "id": "Fc2whys2x7Pn",
    "papermill": {
     "duration": 2.223615,
     "end_time": "2021-01-09T23:01:22.654007",
     "exception": false,
     "start_time": "2021-01-09T23:01:20.430392",
     "status": "completed"
    },
    "tags": []
   },
   "outputs": [],
   "source": [
    "# Imports\n",
    "import sklearn\n",
    "import numpy as np \n",
    "import pandas as pd \n",
    "import matplotlib.pyplot as plt\n",
    "import tensorflow as tf\n",
    "from keras.utils import to_categorical\n",
    "from keras.models import Sequential\n",
    "from keras.layers import Dense\n",
    "from keras import Input\n",
    "from sklearn.model_selection import train_test_split\n",
    "from sklearn.pipeline import Pipeline\n",
    "from sklearn.base import BaseEstimator, TransformerMixin\n",
    "from sklearn.preprocessing import StandardScaler\n",
    "from sklearn import metrics\n",
    "import warnings\n",
    "warnings.filterwarnings(\"ignore\")"
   ]
  },
  {
   "cell_type": "code",
   "execution_count": null,
   "metadata": {
    "_cell_guid": "79c7e3d0-c299-4dcb-8224-4455121ee9b0",
    "_uuid": "d629ff2d2480ee46fbb7e2d37f6b5fab8052498a",
    "execution": {
     "iopub.execute_input": "2021-01-09T23:01:22.670890Z",
     "iopub.status.busy": "2021-01-09T23:01:22.670300Z",
     "iopub.status.idle": "2021-01-09T23:01:22.767077Z",
     "shell.execute_reply": "2021-01-09T23:01:22.766547Z"
    },
    "id": "HH3lnR8wx7Pn",
    "papermill": {
     "duration": 0.105625,
     "end_time": "2021-01-09T23:01:22.767205",
     "exception": false,
     "start_time": "2021-01-09T23:01:22.661580",
     "status": "completed"
    },
    "tags": []
   },
   "outputs": [],
   "source": [
    "df_dataset = pd.read_csv(\"dataset.csv\")\n",
    "\n",
    "df_dataset.columns = [x.lower() for x in df_dataset.columns]\n",
    "\n",
    "cols_to_drop = [\n",
    "    \" erc20 most sent token type\",\n",
    "    \" erc20_most_rec_token_type\",\n",
    "    \"address\",\n",
    "    \"index\",\n",
    "    \"unnamed: 0\"\n",
    "]\n",
    "\n",
    "features = [x for x in df_dataset.columns if (x != \"flag\" and x not in cols_to_drop)]\n",
    "unique_values = df_dataset.nunique()\n",
    "features = [x for x in features if x in unique_values.loc[(unique_values > 1)]]"
   ]
  },
  {
   "cell_type": "code",
   "execution_count": null,
   "metadata": {},
   "outputs": [],
   "source": [
    "class PipeSteps(BaseEstimator, TransformerMixin):\n",
    "    def __init__(self, columns=[]):\n",
    "        self.columns = columns\n",
    "\n",
    "    def fit(self, X, y = None):\n",
    "        \n",
    "        return self\n",
    "    \n",
    "    def transform(self, X):\n",
    "        X = X.copy()\n",
    "        \n",
    "        return X\n",
    "    \n",
    "class SelectColumns(PipeSteps):\n",
    "    def transform(self, X):\n",
    "        X = X.copy()\n",
    "\n",
    "        return X[self.columns]\n",
    "    \n",
    "class FillData(PipeSteps):\n",
    "    def fit(self, X, y = None):\n",
    "        self.means = { col: X[col].mean() for col in self.columns }\n",
    "        \n",
    "        return self\n",
    "\n",
    "    def transform(self, X):\n",
    "        X = X.copy()\n",
    "        for col in self.columns:\n",
    "            X[col] = X[col].fillna(self.means[col])\n",
    "        \n",
    "        return X\n",
    "    \n",
    "class StandardizeData(PipeSteps):\n",
    "    def fit(self, X, y = None):\n",
    "        self.scaler = StandardScaler()\n",
    "        self.scaler.fit(X[self.columns])\n",
    "        \n",
    "        return self\n",
    "\n",
    "    def transform(self, X):\n",
    "        X = X.copy()\n",
    "        X[self.columns] = self.scaler.transform(X[self.columns])\n",
    "        \n",
    "        return X\n",
    "    \n",
    "\n",
    "class GetData(PipeSteps):\n",
    "    def transform(self, X):\n",
    "        X = X.copy()\n",
    "\n",
    "        return X.values"
   ]
  },
  {
   "cell_type": "code",
   "execution_count": null,
   "metadata": {
    "execution": {
     "iopub.execute_input": "2021-01-09T23:01:22.944300Z",
     "iopub.status.busy": "2021-01-09T23:01:22.943741Z",
     "iopub.status.idle": "2021-01-09T23:01:22.946159Z",
     "shell.execute_reply": "2021-01-09T23:01:22.945791Z"
    },
    "id": "h6mUSs8ix7Po",
    "papermill": {
     "duration": 0.013941,
     "end_time": "2021-01-09T23:01:22.946228",
     "exception": false,
     "start_time": "2021-01-09T23:01:22.932287",
     "status": "completed"
    },
    "tags": []
   },
   "outputs": [],
   "source": [
    "process_pipe = Pipeline([\n",
    "    (\"feature_selection\", SelectColumns(features)),\n",
    "    (\"fill_missing\", FillData(features)),\n",
    "    (\"standard_scaling\", StandardizeData(features)),\n",
    "    (\"returnValues\", GetData())]\n",
    ")\n",
    "\n",
    "\n",
    "X = df_dataset[features]\n",
    "y = df_dataset[\"flag\"]\n",
    "y = to_categorical(y)\n",
    "\n",
    "X_train, X_test, y_train, y_test = train_test_split(X, y, test_size=0.30, random_state=42)\n",
    "\n",
    "X_train = process_pipe.fit_transform(X_train)\n",
    "X_test = process_pipe.transform(X_test)"
   ]
  },
  {
   "cell_type": "code",
   "execution_count": null,
   "metadata": {},
   "outputs": [],
   "source": [
    "model = Sequential()\n",
    "\n",
    "model.add(Input(shape=(len(features),)))\n",
    "\n",
    "model.add(Dense(len(features), activation=\"relu\"))\n",
    "\n",
    "model.add(Dense(20, activation=\"relu\"))\n",
    "\n",
    "model.add(Dense(5, activation=\"relu\"))\n",
    "\n",
    "model.add(Dense(2, activation=\"softmax\"))\n",
    "\n",
    "model.compile(optimizer=\"adam\", loss=\"categorical_crossentropy\", metrics=[\"accuracy\"])\n",
    "\n",
    "model.summary()"
   ]
  },
  {
   "cell_type": "code",
   "execution_count": null,
   "metadata": {
    "colab": {
     "base_uri": "https://localhost:8080/"
    },
    "execution": {
     "iopub.execute_input": "2021-01-09T23:01:29.106710Z",
     "iopub.status.busy": "2021-01-09T23:01:29.105632Z",
     "iopub.status.idle": "2021-01-09T23:01:33.426495Z",
     "shell.execute_reply": "2021-01-09T23:01:33.425826Z"
    },
    "id": "jgPvcbL_x7Pp",
    "outputId": "1739cd27-2e84-43b5-975b-ec1ac2dc3535",
    "papermill": {
     "duration": 4.337858,
     "end_time": "2021-01-09T23:01:33.426610",
     "exception": false,
     "start_time": "2021-01-09T23:01:29.088752",
     "status": "completed"
    },
    "tags": []
   },
   "outputs": [],
   "source": [
    "%%time\n",
    "model.fit(X_train, y_train, validation_data=(X_test, y_test), epochs=10)"
   ]
  },
  {
   "cell_type": "code",
   "execution_count": null,
   "metadata": {},
   "outputs": [],
   "source": [
    "test_predicts = [np.argmax(x) for x in model.predict(X_test)]\n",
    "\n",
    "acc = metrics.accuracy_score(test_predicts, [np.argmax(y) for y in y_test])\n",
    "print(f\"Test Accuracy - {acc:,.2%}\")\n",
    "\n",
    "auc = metrics.roc_auc_score([np.argmax(y) for y in y_test], model.predict(X_test)[:,1])\n",
    "print(f\"The AUC on the Test set - {auc:,.2%}\")"
   ]
  },
  {
   "cell_type": "code",
   "execution_count": null,
   "metadata": {},
   "outputs": [],
   "source": [
    "new_data = pd.read_csv(\"new_data.csv\")\n",
    "new_data_processed = process_pipe.transform(new_data)\n",
    "\n",
    "predict = [np.argmax(x) for x in model.predict(new_data_processed)]\n",
    "\n",
    "if predict[0] == 0:\n",
    "    print(\"According to the model, this transaction does not represent a Fraud.\")\n",
    "else:\n",
    "    print(\"According to the model, this transaction may represent a Fraud. Trigger human verification!\")"
   ]
  },
  {
   "cell_type": "code",
   "execution_count": null,
   "metadata": {},
   "outputs": [],
   "source": []
  }
 ],
 "metadata": {
  "accelerator": "GPU",
  "colab": {
   "gpuType": "A100",
   "machine_shape": "hm",
   "provenance": []
  },
  "kernelspec": {
   "display_name": "3.12",
   "language": "python",
   "name": "python3"
  },
  "language_info": {
   "codemirror_mode": {
    "name": "ipython",
    "version": 3
   },
   "file_extension": ".py",
   "mimetype": "text/x-python",
   "name": "python",
   "nbconvert_exporter": "python",
   "pygments_lexer": "ipython3",
   "version": "3.12.7"
  },
  "papermill": {
   "duration": 19.941404,
   "end_time": "2021-01-09T23:01:35.008480",
   "environment_variables": {},
   "exception": null,
   "input_path": "__notebook__.ipynb",
   "output_path": "__notebook__.ipynb",
   "parameters": {},
   "start_time": "2021-01-09T23:01:15.067076",
   "version": "2.1.0"
  }
 },
 "nbformat": 4,
 "nbformat_minor": 1
}
