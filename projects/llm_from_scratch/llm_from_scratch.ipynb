{
 "cells": [
  {
   "cell_type": "code",
   "execution_count": 11,
   "metadata": {},
   "outputs": [
    {
     "name": "stdout",
     "output_type": "stream",
     "text": [
      "/opt/homebrew/opt/python@3.12/bin/python3.12\n"
     ]
    }
   ],
   "source": [
    "import sys\n",
    "print(sys.executable)"
   ]
  },
  {
   "cell_type": "code",
   "execution_count": 12,
   "metadata": {},
   "outputs": [
    {
     "name": "stdout",
     "output_type": "stream",
     "text": [
      "\n",
      "\u001b[1m[\u001b[0m\u001b[34;49mnotice\u001b[0m\u001b[1;39;49m]\u001b[0m\u001b[39;49m A new release of pip is available: \u001b[0m\u001b[31;49m24.2\u001b[0m\u001b[39;49m -> \u001b[0m\u001b[32;49m25.0.1\u001b[0m\n",
      "\u001b[1m[\u001b[0m\u001b[34;49mnotice\u001b[0m\u001b[1;39;49m]\u001b[0m\u001b[39;49m To update, run: \u001b[0m\u001b[32;49mpython3.12 -m pip install --upgrade pip\u001b[0m\n"
     ]
    }
   ],
   "source": [
    "!{sys.executable} -m pip install -q -U watermark"
   ]
  },
  {
   "cell_type": "code",
   "execution_count": 13,
   "metadata": {},
   "outputs": [
    {
     "name": "stdout",
     "output_type": "stream",
     "text": [
      "\n",
      "\u001b[1m[\u001b[0m\u001b[34;49mnotice\u001b[0m\u001b[1;39;49m]\u001b[0m\u001b[39;49m A new release of pip is available: \u001b[0m\u001b[31;49m24.2\u001b[0m\u001b[39;49m -> \u001b[0m\u001b[32;49m25.0.1\u001b[0m\n",
      "\u001b[1m[\u001b[0m\u001b[34;49mnotice\u001b[0m\u001b[1;39;49m]\u001b[0m\u001b[39;49m To update, run: \u001b[0m\u001b[32;49mpython3.12 -m pip install --upgrade pip\u001b[0m\n"
     ]
    }
   ],
   "source": [
    "!{sys.executable} -m pip install -q -U torch"
   ]
  },
  {
   "cell_type": "code",
   "execution_count": 14,
   "metadata": {},
   "outputs": [],
   "source": [
    "import random\n",
    "random.seed(10)"
   ]
  },
  {
   "cell_type": "code",
   "execution_count": 15,
   "metadata": {
    "id": "XQhwlGcdpydo"
   },
   "outputs": [],
   "source": [
    "# Imports\n",
    "import re\n",
    "import math\n",
    "import torch\n",
    "import numpy as np\n",
    "import torch.nn as nn\n",
    "import torch.nn.functional as F\n",
    "import torch.optim as optim\n",
    "from random import *"
   ]
  },
  {
   "cell_type": "markdown",
   "metadata": {},
   "source": [
    "## Loading the Text Data"
   ]
  },
  {
   "cell_type": "code",
   "execution_count": 16,
   "metadata": {},
   "outputs": [],
   "source": [
    "project_text = open(\"texto.txt\", \"r\").read()"
   ]
  },
  {
   "cell_type": "markdown",
   "metadata": {},
   "source": [
    "## Preprocessing the Text Data and Building the Vocabulary"
   ]
  },
  {
   "cell_type": "code",
   "execution_count": 17,
   "metadata": {},
   "outputs": [],
   "source": [
    "# Filtering special characters: '.', ',', '?', '!'\n",
    "sentences = re.sub(\"[.,!?\\\\-]\", \"\", project_text.lower()).split(\"\\n\") \n",
    "\n",
    "# Split the phrases into words and create a list of words\n",
    "word_list = list(set(\" \".join(sentences).split()))\n",
    "\n",
    "# Inicialize the word dictionary with BERT's special tokens\n",
    "word_dict = {'[PAD]': 0, '[CLS]': 1, '[SEP]': 2, '[MASK]': 3}\n",
    "\n",
    "# Add the words to the dictionary and create indexes\n",
    "for i, w in enumerate(word_list):\n",
    "    word_dict[w] = i + 4\n",
    "    \n",
    "# Invert the order and put the indexes as keys and the words as values in the dictionary\n",
    "number_dict = {i: w for i, w in enumerate(word_dict)}\n",
    "\n",
    "vocab_size = len(word_dict)\n",
    "token_list = list()"
   ]
  },
  {
   "cell_type": "code",
   "execution_count": 18,
   "metadata": {
    "id": "dZXQM7TIpydr"
   },
   "outputs": [],
   "source": [
    "# Loop for each sentence to create the token list\n",
    "for sentence in sentences:\n",
    "    arr = [word_dict[s] for s in sentence.split()]\n",
    "    token_list.append(arr)"
   ]
  },
  {
   "cell_type": "markdown",
   "metadata": {},
   "source": [
    "## Hyperparameters Definition"
   ]
  },
  {
   "cell_type": "code",
   "execution_count": 19,
   "metadata": {
    "id": "_HzEd-kcpydt"
   },
   "outputs": [],
   "source": [
    "batch_size = 6\n",
    "n_segments = 2\n",
    "dropout = 0.2\n",
    "\n",
    "maxlen = 100 \n",
    "max_pred = 7\n",
    "n_layers = 6 \n",
    "n_heads = 12\n",
    "d_model = 768\n",
    "d_ff = d_model * 4\n",
    "d_k = d_v = 64 \n",
    "\n",
    "NUM_EPOCHS = 50"
   ]
  },
  {
   "cell_type": "markdown",
   "metadata": {},
   "source": [
    "## Batch Data Creation and Special Tokens Application"
   ]
  },
  {
   "cell_type": "code",
   "execution_count": 20,
   "metadata": {
    "id": "fYLFtroMpydu"
   },
   "outputs": [],
   "source": [
    "# Define the function to create data batches\n",
    "def dsa_make_batch():\n",
    "    \n",
    "    # Initialize the batch as an empty list\n",
    "    batch = []\n",
    "    \n",
    "    # Initialize counters for positive and negative examples\n",
    "    positive = negative = 0\n",
    "    \n",
    "    # Continue until half the batch consists of positive examples and the other half of negative examples\n",
    "    while positive != batch_size/2 or negative != batch_size/2:\n",
    "        \n",
    "        # Randomly choose indices for two sentences\n",
    "        tokens_a_index, tokens_b_index = randrange(len(sentences)), randrange(len(sentences))\n",
    "        \n",
    "        # Retrieve the corresponding tokens for these indices\n",
    "        tokens_a, tokens_b = token_list[tokens_a_index], token_list[tokens_b_index]\n",
    "        \n",
    "        # Prepare input ids by adding special tokens [CLS] and [SEP]\n",
    "        input_ids = [word_dict['[CLS]']] + tokens_a + [word_dict['[SEP]']] + tokens_b + [word_dict['[SEP]']]\n",
    "        \n",
    "        # Define segment ids to differentiate the two sentences\n",
    "        segment_ids = [0] * (1 + len(tokens_a) + 1) + [1] * (len(tokens_b) + 1)\n",
    "        \n",
    "        # Calculate the number of predictions to make (15% of tokens)\n",
    "        n_pred =  min(max_pred, max(1, int(round(len(input_ids) * 0.15)))) \n",
    "        \n",
    "        # Identify candidate positions for masking that are not [CLS] or [SEP]\n",
    "        cand_maked_pos = [i for i, token in enumerate(input_ids) if token != word_dict['[CLS]'] and token != word_dict['[SEP]']]\n",
    "        \n",
    "        # Shuffle candidate positions\n",
    "        shuffle(cand_maked_pos)\n",
    "        \n",
    "        # Initialize lists for masked tokens and their positions\n",
    "        masked_tokens, masked_pos = [], []\n",
    "        \n",
    "        # Mask tokens until reaching the desired number of predictions\n",
    "        for pos in cand_maked_pos[:n_pred]:\n",
    "            masked_pos.append(pos)\n",
    "            masked_tokens.append(input_ids[pos])\n",
    "            \n",
    "            # Random mask\n",
    "            if random() < 0.8:  \n",
    "                input_ids[pos] = word_dict['[MASK]'] \n",
    "            \n",
    "            # Replace with another token 10% of the time (20% of the remaining cases)\n",
    "            elif random() < 0.5:  \n",
    "                index = randint(0, vocab_size - 1) \n",
    "                input_ids[pos] = word_dict[number_dict[index]] \n",
    "        \n",
    "        # Add zero padding to input ids and segment ids to reach maximum length\n",
    "        n_pad = maxlen - len(input_ids)\n",
    "        input_ids.extend([0] * n_pad)\n",
    "        segment_ids.extend([0] * n_pad)\n",
    "        \n",
    "        # Add zero padding to masked tokens and their positions if necessary\n",
    "        if max_pred > n_pred:\n",
    "            n_pad = max_pred - n_pred\n",
    "            masked_tokens.extend([0] * n_pad)\n",
    "            masked_pos.extend([0] * n_pad)\n",
    "        \n",
    "        # Add to the batch as a positive example if sentences are consecutive\n",
    "        if tokens_a_index + 1 == tokens_b_index and positive < batch_size / 2:\n",
    "            batch.append([input_ids, segment_ids, masked_tokens, masked_pos, True]) \n",
    "            positive += 1\n",
    "        \n",
    "        # Add to the batch as a negative example if sentences are not consecutive\n",
    "        elif tokens_a_index + 1 != tokens_b_index and negative < batch_size / 2:\n",
    "            batch.append([input_ids, segment_ids, masked_tokens, masked_pos, False]) \n",
    "            negative += 1\n",
    "    \n",
    "    # Return the complete batch\n",
    "    return batch"
   ]
  },
  {
   "cell_type": "code",
   "execution_count": 21,
   "metadata": {
    "id": "tun2vU1dpydv"
   },
   "outputs": [],
   "source": [
    "def dsa_get_attn_pad_masked(seq_q, seq_k):    \n",
    "    batch_size, len_q = seq_q.size()\n",
    "    batch_size, len_k = seq_k.size()\n",
    "    pad_attn_masked = seq_k.data.eq(0).unsqueeze(1)\n",
    "    \n",
    "    return pad_attn_masked.expand(batch_size, len_q, len_k)\n"
   ]
  },
  {
   "cell_type": "code",
   "execution_count": 22,
   "metadata": {},
   "outputs": [
    {
     "data": {
      "text/plain": [
       "(tensor([False, False, False, False, False, False, False, False, False, False,\n",
       "         False, False, False, False, False, False, False, False, False, False,\n",
       "         False,  True,  True,  True,  True,  True,  True,  True,  True,  True,\n",
       "          True,  True,  True,  True,  True,  True,  True,  True,  True,  True,\n",
       "          True,  True,  True,  True,  True,  True,  True,  True,  True,  True,\n",
       "          True,  True,  True,  True,  True,  True,  True,  True,  True,  True,\n",
       "          True,  True,  True,  True,  True,  True,  True,  True,  True,  True,\n",
       "          True,  True,  True,  True,  True,  True,  True,  True,  True,  True,\n",
       "          True,  True,  True,  True,  True,  True,  True,  True,  True,  True,\n",
       "          True,  True,  True,  True,  True,  True,  True,  True,  True,  True]),\n",
       " tensor([ 1, 21, 45, 41, 58, 28,  3, 25, 37, 34, 67, 55,  2,  3, 57, 17, 13, 33,\n",
       "         24, 19,  2,  0,  0,  0,  0,  0,  0,  0,  0,  0,  0,  0,  0,  0,  0,  0,\n",
       "          0,  0,  0,  0,  0,  0,  0,  0,  0,  0,  0,  0,  0,  0,  0,  0,  0,  0,\n",
       "          0,  0,  0,  0,  0,  0,  0,  0,  0,  0,  0,  0,  0,  0,  0,  0,  0,  0,\n",
       "          0,  0,  0,  0,  0,  0,  0,  0,  0,  0,  0,  0,  0,  0,  0,  0,  0,  0,\n",
       "          0,  0,  0,  0,  0,  0,  0,  0,  0,  0]))"
      ]
     },
     "execution_count": 22,
     "metadata": {},
     "output_type": "execute_result"
    }
   ],
   "source": [
    "\n",
    "batch = dsa_make_batch()\n",
    "\n",
    "input_ids, segment_ids, masked_tokens, masked_pos, isNext = map(torch.LongTensor, zip(*batch))\n",
    "dsa_get_attn_pad_masked(input_ids, input_ids)[0][0], input_ids[0]"
   ]
  },
  {
   "cell_type": "markdown",
   "metadata": {},
   "source": [
    "## Model building"
   ]
  },
  {
   "cell_type": "code",
   "execution_count": 23,
   "metadata": {},
   "outputs": [],
   "source": [
    "def gelu(x):\n",
    "    return x * 0.5 * (1.0 + torch.erf(x / math.sqrt(2.0)))"
   ]
  },
  {
   "cell_type": "markdown",
   "metadata": {},
   "source": [
    "### 1- Embedding"
   ]
  },
  {
   "cell_type": "code",
   "execution_count": 24,
   "metadata": {},
   "outputs": [],
   "source": [
    "# Embedding Class\n",
    "class Embedding(nn.Module):\n",
    "    \n",
    "    # Constructor method\n",
    "    def __init__(self):\n",
    "        super(Embedding, self).__init__()\n",
    "        \n",
    "        # Token embedding\n",
    "        self.tok_embed = nn.Embedding(vocab_size, d_model)  \n",
    "        \n",
    "        # Position embedding\n",
    "        self.pos_embed = nn.Embedding(maxlen, d_model)  \n",
    "        \n",
    "        # Segment (token type) embedding\n",
    "        self.seg_embed = nn.Embedding(n_segments, d_model)  \n",
    "        \n",
    "        # Layer normalization\n",
    "        self.norm = nn.LayerNorm(d_model)\n",
    "\n",
    "    # Forward method\n",
    "    def forward(self, x, seg):\n",
    "        seq_len = x.size(1)\n",
    "        pos = torch.arange(seq_len, dtype=torch.long)\n",
    "        \n",
    "        # (seq_len,) -> (batch_size, seq_len)\n",
    "        pos = pos.unsqueeze(0).expand_as(x)  \n",
    "        embedding = self.tok_embed(x) + self.pos_embed(pos) + self.seg_embed(seg)\n",
    "        \n",
    "        return self.norm(embedding)\n"
   ]
  },
  {
   "cell_type": "markdown",
   "metadata": {},
   "source": [
    "### 2- Scaled Dot Product Attention"
   ]
  },
  {
   "cell_type": "code",
   "execution_count": 25,
   "metadata": {},
   "outputs": [],
   "source": [
    "# Define the class for performing scaled dot-product attention\n",
    "class ScaledDotProductAttention(nn.Module):\n",
    "    \n",
    "    # Class initialization method\n",
    "    def __init__(self):\n",
    "        # Initialize the base class\n",
    "        super(ScaledDotProductAttention, self).__init__()\n",
    "\n",
    "    # Forward method to define the forward pass of data\n",
    "    def forward(self, Q, K, V, attn_mask):\n",
    "        # Calculate attention scores as the product of Q and K, normalized by the key size\n",
    "        scores = torch.matmul(Q, K.transpose(-1, -2)) / np.sqrt(d_k)\n",
    "        \n",
    "        # Apply attention mask to prevent attention to certain tokens\n",
    "        scores.masked_fill_(attn_mask, -1e9)\n",
    "        \n",
    "        # Apply softmax to obtain normalized attention weights\n",
    "        attn = nn.Softmax(dim=-1)(scores)\n",
    "        \n",
    "        # Multiply attention weights by V to obtain context\n",
    "        context = torch.matmul(attn, V)\n",
    "        \n",
    "        # Return the context and attention weights\n",
    "        return context, attn\n"
   ]
  },
  {
   "cell_type": "markdown",
   "metadata": {},
   "source": [
    "### 3- Multi-Head Attention"
   ]
  },
  {
   "cell_type": "code",
   "execution_count": 26,
   "metadata": {
    "id": "FEMcW2aEpydy"
   },
   "outputs": [],
   "source": [
    "# Define the class for performing multi-head attention\n",
    "class MultiHeadAttention(nn.Module):\n",
    "    \n",
    "    def __init__(self) -> None:\n",
    "        \n",
    "        # Initialize the base class\n",
    "        super(MultiHeadAttention, self).__init__()\n",
    "        \n",
    "        # Define the weight matrix for queries Q\n",
    "        self.W_Q = nn.Linear(d_model, d_k * n_heads)\n",
    "        \n",
    "        # Define the weight matrix for keys K\n",
    "        self.W_K = nn.Linear(d_model, d_k * n_heads)\n",
    "        \n",
    "        # Define the weight matrix for values V\n",
    "        self.W_V = nn.Linear(d_model, d_v * n_heads)\n",
    "\n",
    "    # Forward method to define the forward pass of data\n",
    "    def forward(self, Q, K, V, attn_mask):\n",
    "        \n",
    "        # Save input Q for residual connection and obtain the batch size\n",
    "        residual, batch_size = Q, Q.size(0)\n",
    "        \n",
    "        # Process Q through W_Q and reshape to have [n_heads] in the second dimension\n",
    "        q_s = self.W_Q(Q).view(batch_size, -1, n_heads, d_k).transpose(1,2)\n",
    "        \n",
    "        # Process K through W_K and reshape to have [n_heads] in the second dimension\n",
    "        k_s = self.W_K(K).view(batch_size, -1, n_heads, d_k).transpose(1,2)\n",
    "        \n",
    "        # Process V through W_V and reshape to have [n_heads] in the second dimension\n",
    "        v_s = self.W_V(V).view(batch_size, -1, n_heads, d_v).transpose(1,2)\n",
    "        \n",
    "        # Adapt attn_mask to be compatible with the dimensions of q_s, k_s, v_s\n",
    "        attn_mask = attn_mask.unsqueeze(1).repeat(1, n_heads, 1, 1)\n",
    "        \n",
    "        # Compute scaled dot-product attention and context for each attention head\n",
    "        context, attn = ScaledDotProductAttention()(q_s, k_s, v_s, attn_mask)\n",
    "        \n",
    "        # Reorganize the context to combine attention heads and revert to the original format\n",
    "        context = context.transpose(1,2).contiguous().view(batch_size, -1, n_heads * d_v)\n",
    "        \n",
    "        # Apply a linear transformation to the combined context\n",
    "        output = nn.Linear(n_heads * d_v, d_model)(context)\n",
    "        \n",
    "        # Normalize the output layer and add the residual connection\n",
    "        return nn.LayerNorm(d_model)(output + residual), attn"
   ]
  },
  {
   "cell_type": "code",
   "execution_count": 27,
   "metadata": {},
   "outputs": [],
   "source": [
    "# Create the Embedding object\n",
    "emb = Embedding()\n",
    "\n",
    "# Generate the embeddings\n",
    "embeds = emb(input_ids, segment_ids)\n",
    "\n",
    "# Generate the attention mask\n",
    "attenM = dsa_get_attn_pad_masked(input_ids, input_ids)\n",
    "\n",
    "# Generate MultiHeadAttention\n",
    "MHA = MultiHeadAttention()(embeds, embeds, embeds, attenM)\n",
    "\n",
    "output, A = MHA"
   ]
  },
  {
   "cell_type": "markdown",
   "metadata": {},
   "source": [
    "### 4- Feedforward Posicional"
   ]
  },
  {
   "cell_type": "code",
   "execution_count": 28,
   "metadata": {},
   "outputs": [],
   "source": [
    "# Define the class for the Position-wise Feed Forward network\n",
    "class PoswiseFeedForward(nn.Module):\n",
    "    \n",
    "    def __init__(self) -> None:\n",
    "        \n",
    "        # Initialize the base class\n",
    "        super(PoswiseFeedForward, self).__init__()\n",
    "        \n",
    "        # First linear layer increasing dimension from d_model to d_ff\n",
    "        self.fc1 = nn.Linear(d_model, d_ff)\n",
    "        \n",
    "        # Second linear layer reducing dimension from d_ff back to d_model\n",
    "        self.fc2 = nn.Linear(d_ff, d_model)\n",
    "\n",
    "    # Forward method to define the forward pass of data\n",
    "    def forward(self, x):\n",
    "        \n",
    "        # Apply the first linear transformation, followed by the GELU activation function,\n",
    "        # and then the second linear transformation\n",
    "        return self.fc2(gelu(self.fc1(x)))\n"
   ]
  },
  {
   "cell_type": "markdown",
   "metadata": {},
   "source": [
    "### 5- Encoder Layer"
   ]
  },
  {
   "cell_type": "code",
   "execution_count": 29,
   "metadata": {
    "id": "f6Eij7fGpydz"
   },
   "outputs": [],
   "source": [
    "# Define the class for the encoder layer\n",
    "class EncoderLayer(nn.Module):\n",
    "    \n",
    "    def __init__(self) -> None:\n",
    "        \n",
    "        # Initializes the base class\n",
    "        super(EncoderLayer, self).__init__()\n",
    "        \n",
    "        # Instantiates multi-head attention for encoder self-attention\n",
    "        self.enc_self_attn = MultiHeadAttention()\n",
    "        \n",
    "        # Instantiates the Positional Feed Forward Network to be used after self-attention\n",
    "        self.pos_ffn = PoswiseFeedForward()\n",
    "\n",
    "    # Forward method to define the forward pass of the data\n",
    "    def forward(self, enc_inputs, enc_self_attn_mask):\n",
    "        \n",
    "        # Applies self-attention to the input data\n",
    "        enc_inputs, atnn = self.enc_self_attn(enc_inputs, enc_inputs, enc_inputs, enc_self_attn_mask)\n",
    "        \n",
    "        # After self-attention, passes the result through the Positional Feed Forward Network\n",
    "        enc_inputs = self.pos_ffn(enc_inputs)\n",
    "        \n",
    "        # Returns the encoder output and attention weights\n",
    "        return enc_inputs, atnn\n"
   ]
  },
  {
   "cell_type": "markdown",
   "metadata": {},
   "source": [
    "### 6 - Final LLM Architecture (BERT model)"
   ]
  },
  {
   "cell_type": "code",
   "execution_count": 30,
   "metadata": {
    "id": "-hstWm_rpydz"
   },
   "outputs": [],
   "source": [
    "class BERT(nn.Module):\n",
    "    \n",
    "    def __init__(self) -> None:\n",
    "        super(BERT, self).__init__()\n",
    "        self.embedding = Embedding()\n",
    "        self.layers = nn.ModuleList([EncoderLayer() for _ in range(n_layers)])\n",
    "        self.fc = nn.Linear(d_model, d_model)\n",
    "        self.activ1 = nn.Tanh()\n",
    "        self.linear = nn.Linear(d_model, d_model)\n",
    "        self.activ2 = gelu\n",
    "        self.norm = nn.LayerNorm(d_model)\n",
    "        self.classifier = nn.Linear(d_model, 2)\n",
    "        \n",
    "        embed_weight = self.embedding.tok_embed.weight\n",
    "        n_vocab, n_dim = embed_weight.size()\n",
    "        \n",
    "        self.decoder = nn.Linear(n_dim, n_vocab, bias=False)\n",
    "        self.decoder.weight = embed_weight\n",
    "        self.decoder_bias = nn.Parameter(torch.zeros(n_vocab))\n",
    "\n",
    "    def forward(self, input_ids, segment_ids, masked_pos):\n",
    "        output = self.embedding(input_ids, segment_ids)\n",
    "        enc_self_attn_mask = dsa_get_attn_pad_masked(input_ids, input_ids)\n",
    "        for layer in self.layers:\n",
    "            output, enc_self_attn = layer(output, enc_self_attn_mask)\n",
    "        \n",
    "        h_pooled = self.activ1(self.fc(output[:, 0]))\n",
    "        logits_clsf = self.classifier(h_pooled)\n",
    "        masked_pos = masked_pos[:, :, None].expand(-1, -1, output.size(-1))\n",
    "        h_masked = torch.gather(output, 1, masked_pos)\n",
    "        h_masked = self.norm(self.activ2(self.linear(h_masked)))\n",
    "        logits_lm = self.decoder(h_masked) + self.decoder_bias\n",
    "        \n",
    "        return logits_lm, logits_clsf"
   ]
  },
  {
   "cell_type": "markdown",
   "metadata": {},
   "source": [
    "## LLM training and evaluation"
   ]
  },
  {
   "cell_type": "code",
   "execution_count": 31,
   "metadata": {},
   "outputs": [],
   "source": [
    "my_model = BERT()\n",
    "\n",
    "criterion = nn.CrossEntropyLoss()\n",
    "optimizer = optim.Adam(my_model.parameters(), lr = 0.001)\n",
    "batch = dsa_make_batch()\n",
    "\n",
    "input_ids, segment_ids, masked_tokens, masked_pos, isNext = map(torch.LongTensor, zip(*batch))"
   ]
  },
  {
   "cell_type": "code",
   "execution_count": 32,
   "metadata": {
    "id": "OtgfwJ17pyd0"
   },
   "outputs": [
    {
     "name": "stdout",
     "output_type": "stream",
     "text": [
      "Epoch: 1 | Loss 90.3972\n",
      "Epoch: 2 | Loss 86.4410\n",
      "Epoch: 3 | Loss 321.5726\n",
      "Epoch: 4 | Loss 27.3724\n",
      "Epoch: 5 | Loss 76.5048\n",
      "Epoch: 6 | Loss 63.3785\n",
      "Epoch: 7 | Loss 40.7729\n",
      "Epoch: 8 | Loss 43.8030\n",
      "Epoch: 9 | Loss 19.2123\n",
      "Epoch: 10 | Loss 18.8235\n",
      "Epoch: 11 | Loss 20.8981\n",
      "Epoch: 12 | Loss 17.8936\n",
      "Epoch: 13 | Loss 17.8925\n",
      "Epoch: 14 | Loss 17.5576\n",
      "Epoch: 15 | Loss 18.1180\n",
      "Epoch: 16 | Loss 18.5692\n",
      "Epoch: 17 | Loss 19.7877\n",
      "Epoch: 18 | Loss 19.7330\n",
      "Epoch: 19 | Loss 19.8825\n",
      "Epoch: 20 | Loss 19.9438\n",
      "Epoch: 21 | Loss 17.1900\n",
      "Epoch: 22 | Loss 19.2765\n",
      "Epoch: 23 | Loss 18.9486\n",
      "Epoch: 24 | Loss 17.8177\n",
      "Epoch: 25 | Loss 19.1062\n",
      "Epoch: 26 | Loss 17.8007\n",
      "Epoch: 27 | Loss 18.4139\n",
      "Epoch: 28 | Loss 18.7882\n",
      "Epoch: 29 | Loss 16.5637\n",
      "Epoch: 30 | Loss 18.2306\n",
      "Epoch: 31 | Loss 17.5891\n",
      "Epoch: 32 | Loss 18.1362\n",
      "Epoch: 33 | Loss 19.4828\n",
      "Epoch: 34 | Loss 17.3118\n",
      "Epoch: 35 | Loss 17.9853\n",
      "Epoch: 36 | Loss 19.0028\n",
      "Epoch: 37 | Loss 20.2405\n",
      "Epoch: 38 | Loss 18.5852\n",
      "Epoch: 39 | Loss 17.2323\n",
      "Epoch: 40 | Loss 17.7292\n",
      "Epoch: 41 | Loss 15.8411\n",
      "Epoch: 42 | Loss 15.5888\n",
      "Epoch: 43 | Loss 15.8909\n",
      "Epoch: 44 | Loss 16.3361\n",
      "Epoch: 45 | Loss 16.0674\n",
      "Epoch: 46 | Loss 15.9870\n",
      "Epoch: 47 | Loss 14.3452\n",
      "Epoch: 48 | Loss 13.7736\n",
      "Epoch: 49 | Loss 13.3028\n",
      "Epoch: 50 | Loss 12.2047\n",
      "CPU times: user 1min 52s, sys: 13.2 s, total: 2min 5s\n",
      "Wall time: 32.4 s\n"
     ]
    }
   ],
   "source": [
    "%%time\n",
    "\n",
    "# Starts the training loop for a defined number of epochs\n",
    "for epoch in range(NUM_EPOCHS):\n",
    "    # Resets the optimizer gradients to avoid accumulation from previous epochs\n",
    "    optimizer.zero_grad()\n",
    "    \n",
    "    # Passes the input data through the model and obtains logits for \n",
    "    # masked language modeling and next sentence classification\n",
    "    logits_lm, logits_clsf = my_model(input_ids, segment_ids, masked_pos)\n",
    "    \n",
    "    # Computes the loss for the masked language modeling task by comparing \n",
    "    # the predicted logits with the actual tokens\n",
    "    loss_lm = criterion(logits_lm.transpose(1,2), masked_tokens)\n",
    "    \n",
    "    # Computes the average loss for normalization\n",
    "    loss_lm = (loss_lm.float()).mean()\n",
    "    \n",
    "    # Computes the loss for the next sentence classification task\n",
    "    loss_clsf = criterion(logits_clsf, isNext)\n",
    "    \n",
    "    # Sums the losses from both tasks to obtain the total loss\n",
    "    loss = loss_lm + loss_clsf\n",
    "    \n",
    "    # Displays the current epoch and total loss\n",
    "    print(f'Epoch: {epoch + 1} | Loss {loss:.4f}')\n",
    "    \n",
    "    # Performs backpropagation to compute gradients\n",
    "    loss.backward()\n",
    "    \n",
    "    # Updates the model parameters based on the computed gradients\n",
    "    optimizer.step()\n"
   ]
  },
  {
   "cell_type": "markdown",
   "metadata": {},
   "source": [
    "## Extracting Predictions from the Trained LLM"
   ]
  },
  {
   "cell_type": "code",
   "execution_count": 33,
   "metadata": {},
   "outputs": [
    {
     "name": "stdout",
     "output_type": "stream",
     "text": [
      "'Olá, como vai? Eu sou a Camila.\\n'\n",
      "'Olá, Camila, meu nome é Fernando. Muito prazer.\\n'\n",
      "'Prazer em conhecer você também. Como você está hoje?\\n'\n",
      "'Ótimo. Meu time de futebol venceu a competição.\\n'\n",
      "'Uau, Parabéns Fernando!\\n'\n",
      "'Obrigado Camila.\\n'\n",
      "'Vamos comer uma pizza mais tarde para celebrar?\\n'\n",
      "'Claro. Você recomenda algum restaurante Camila?\\n'\n",
      "'Sim, abriu um restaurante novo e dizem que a pizza de banana é fenomenal.\\n'\n",
      "'Ok. Nos encontramos no restaurante às sete da noite, pode ser?\\n'\n",
      "'Pode sim. Nos vemos mais tarde então.'\n",
      "['[CLS]', \"'olá\", '[MASK]', 'vai', 'eu', 'sou', 'a', \"camila\\\\n'\", '[SEP]', \"'ok\", 'nos', 'encontramos', 'no', 'restaurante', 'às', 'sete', '[MASK]', 'noite', 'pode', \"'olá\", '[SEP]']\n"
     ]
    }
   ],
   "source": [
    "input_ids, segment_ids, masked_tokens, masked_pos, isNext = map(torch.LongTensor, zip(batch[0]))\n",
    "print(dsa_texto)\n",
    "print([number_dict[w.item()] for w in input_ids[0] if number_dict[w.item()] != '[PAD]'])"
   ]
  },
  {
   "cell_type": "code",
   "execution_count": 36,
   "metadata": {},
   "outputs": [
    {
     "name": "stdout",
     "output_type": "stream",
     "text": [
      "Actual Masked Tokens List:  [55, 57, 37]\n",
      "Predicted Masked Tokens List:  [np.int64(18), np.int64(18)]\n"
     ]
    }
   ],
   "source": [
    "logits_lm, logits_clsf = my_model(input_ids, segment_ids, masked_pos)\n",
    "logits_lm = logits_lm.data.max(2)[1][0].data.numpy()\n",
    "print('Actual Masked Tokens List: ', [pos.item() for pos in masked_tokens[0] if pos.item() != 0])\n",
    "print('Predicted Masked Tokens List: ', [pos for pos in logits_lm if pos != 0])"
   ]
  },
  {
   "cell_type": "code",
   "execution_count": 37,
   "metadata": {
    "colab": {
     "base_uri": "https://localhost:8080/"
    },
    "id": "jsAhgTZCpyd0",
    "outputId": "ccd4cae3-835d-4678-da37-41018d77354f"
   },
   "outputs": [
    {
     "name": "stdout",
     "output_type": "stream",
     "text": [
      "isNext (Actual Value):  False\n",
      "isNext (Predicted Value):  False\n"
     ]
    }
   ],
   "source": [
    "# Extracts the next token predictions\n",
    "logits_clsf = logits_clsf.data.max(1)[1].data.numpy()[0]\n",
    "print('isNext (Actual Value): ', True if isNext else False)\n",
    "print('isNext (Predicted Value): ', True if logits_clsf else False)\n"
   ]
  },
  {
   "cell_type": "code",
   "execution_count": null,
   "metadata": {},
   "outputs": [],
   "source": []
  }
 ],
 "metadata": {
  "accelerator": "GPU",
  "colab": {
   "gpuType": "T4",
   "provenance": []
  },
  "gpuClass": "standard",
  "kernelspec": {
   "display_name": "3.12",
   "language": "python",
   "name": "python3"
  },
  "language_info": {
   "codemirror_mode": {
    "name": "ipython",
    "version": 3
   },
   "file_extension": ".py",
   "mimetype": "text/x-python",
   "name": "python",
   "nbconvert_exporter": "python",
   "pygments_lexer": "ipython3",
   "version": "3.12.7"
  }
 },
 "nbformat": 4,
 "nbformat_minor": 1
}
